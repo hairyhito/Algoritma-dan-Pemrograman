{
  "nbformat": 4,
  "nbformat_minor": 0,
  "metadata": {
    "colab": {
      "provenance": [],
      "authorship_tag": "ABX9TyMqiBcB87c5DG8XtlBmT8AT",
      "include_colab_link": true
    },
    "kernelspec": {
      "name": "python3",
      "display_name": "Python 3"
    },
    "language_info": {
      "name": "python"
    }
  },
  "cells": [
    {
      "cell_type": "markdown",
      "metadata": {
        "id": "view-in-github",
        "colab_type": "text"
      },
      "source": [
        "<a href=\"https://colab.research.google.com/github/hairyhito/Algoritma-dan-Pemrograman/blob/main/M_Rhafi_Hairy_M_Jobsheet3.ipynb\" target=\"_parent\"><img src=\"https://colab.research.google.com/assets/colab-badge.svg\" alt=\"Open In Colab\"/></a>"
      ]
    },
    {
      "cell_type": "markdown",
      "source": [
        "Praktikum 01. If Sederhana\n"
      ],
      "metadata": {
        "id": "h-jpgsE16P8w"
      }
    },
    {
      "cell_type": "code",
      "execution_count": 21,
      "metadata": {
        "colab": {
          "base_uri": "https://localhost:8080/"
        },
        "id": "SNHtJ3P41qrf",
        "outputId": "434024b8-278f-44dd-d923-6aebce58ba3a"
      },
      "outputs": [
        {
          "output_type": "stream",
          "name": "stdout",
          "text": [
            "Masukkan nilai Anda : 70\n",
            "Selamat Anda Lulus\n"
          ]
        }
      ],
      "source": [
        "nilai = int(input(\"Masukkan nilai Anda : \"))\n",
        "if nilai >= 60 :\n",
        "  print(\"Selamat Anda Lulus\")\n"
      ]
    },
    {
      "cell_type": "markdown",
      "source": [
        "Praktikum 02. If -Else"
      ],
      "metadata": {
        "id": "VCKHK_LPCIi6"
      }
    },
    {
      "cell_type": "code",
      "source": [
        "nilai = int(input(\"Masukkan nilai Anda : \"))\n",
        "if nilai >= 60 :\n",
        "  print(\"Selamat Anda Lulus\")\n",
        "else :\n",
        "  print(\"Maaf Anda Tidak Lulus\")\n"
      ],
      "metadata": {
        "colab": {
          "base_uri": "https://localhost:8080/"
        },
        "id": "D-tKpgBRBZ06",
        "outputId": "8dcce62f-3e68-407f-e437-f4b3ce3f46b1"
      },
      "execution_count": null,
      "outputs": [
        {
          "output_type": "stream",
          "name": "stdout",
          "text": [
            "Masukkan nilai Anda : 50\n",
            "Maaf Anda Tidak Lulus\n"
          ]
        }
      ]
    },
    {
      "cell_type": "markdown",
      "source": [
        "Praktikum 03. If-Elif-Else"
      ],
      "metadata": {
        "id": "8s5U4z3GCWgX"
      }
    },
    {
      "cell_type": "code",
      "source": [
        "nl = int(input(\"Masukkan nilai Anda : \"))\n",
        "if nl >= 85 :\n",
        "  grade = \"A\"\n",
        "elif nl >= 70 :\n",
        "  grade =  \"B\"\n",
        "elif nl >= 55 :\n",
        "  grade = \"C\"\n",
        "elif nl >= 40 :\n",
        "  grade = \"D\"\n",
        "else :\n",
        "  grade = \"E\"\n",
        "\n",
        "print(f\"Nilai anda {nl}, maka Grade Anda {grade}\")"
      ],
      "metadata": {
        "colab": {
          "base_uri": "https://localhost:8080/"
        },
        "id": "0t7CdMmWCZQq",
        "outputId": "5d48ba91-d056-4d73-dcf7-c6e4e9ee2542"
      },
      "execution_count": 22,
      "outputs": [
        {
          "output_type": "stream",
          "name": "stdout",
          "text": [
            "Masukkan nilai Anda : 78\n",
            "Nilai anda 78, maka Grade Anda B\n"
          ]
        }
      ]
    },
    {
      "cell_type": "markdown",
      "source": [
        "Praktikum 04. Nested If"
      ],
      "metadata": {
        "id": "4pgXjAK5Dkuq"
      }
    },
    {
      "cell_type": "code",
      "source": [
        "ipk = float(input(\"Masukkan IPK Anda : \"))\n",
        "sks = int(input(\"Masukkan jumlah SKS Anda : \"))\n",
        "\n",
        "if ipk >= 3.0 :\n",
        "  if sks >= 18 :\n",
        "    print(\"Selamat Anda layak dapat beasiswa\")\n",
        "  else :\n",
        "    print(\"Maaf Anda tidak layak mendapatkan beasiswa (SKS kurang)\")\n",
        "else :\n",
        "  print(\"Maaf Anda tidak layak mendapatkan beasiswa\")"
      ],
      "metadata": {
        "colab": {
          "base_uri": "https://localhost:8080/"
        },
        "id": "z8hIvnmCDiIW",
        "outputId": "a076a1e7-c584-443e-c0fc-8322192237e3"
      },
      "execution_count": 26,
      "outputs": [
        {
          "output_type": "stream",
          "name": "stdout",
          "text": [
            "Masukkan IPK Anda : 2.8\n",
            "Masukkan jumlah SKS Anda : 20\n",
            "Maaf Anda tidak layak mendapatkan beasiswa\n"
          ]
        }
      ]
    },
    {
      "cell_type": "markdown",
      "source": [
        "Praktikum 05. Match-Case"
      ],
      "metadata": {
        "id": "VFxiSYzjE_O4"
      }
    },
    {
      "cell_type": "code",
      "source": [
        "menu = int(input(\"Masukkan pilihan Anda (Pilih 1-3): \"))\n",
        "match menu :\n",
        "  case 1 :\n",
        "    print(\"Anda memilih Nasgor Goreng\")\n",
        "  case 2 :\n",
        "    print(\"Anda memilih Miayam Chicken\")\n",
        "  case 3 :\n",
        "    print(\"Anda memilih Soto Ayam Rebus\")\n",
        "  case _ :\n",
        "    print(\"Pilihan tidak tersedia\")"
      ],
      "metadata": {
        "colab": {
          "base_uri": "https://localhost:8080/"
        },
        "id": "FNwl1jKqEfBl",
        "outputId": "97cbdd4a-b32e-4cb5-f883-c5a6ed8154f8"
      },
      "execution_count": 28,
      "outputs": [
        {
          "output_type": "stream",
          "name": "stdout",
          "text": [
            "Masukkan pilihan Anda (Pilih 1-3): 9\n",
            "Pilihan tidak tersedia\n"
          ]
        }
      ]
    },
    {
      "cell_type": "markdown",
      "source": [
        "Praktikum 06. Studi Kasus: Program Kasir"
      ],
      "metadata": {
        "id": "eO_0MUGyG0yV"
      }
    },
    {
      "cell_type": "code",
      "source": [
        "brg = str(input(\"Masukkan nama barang : \"))\n",
        "hrg = float(input(\"Masukkan harga barang : \"))\n",
        "jml = int(input(\"Masukkan jumlah barang : \"))\n",
        "\n",
        "total = hrg*jml\n",
        "if total >= 500000 :\n",
        "  diskon = 0.2\n",
        "elif total >= 250000 :\n",
        "  diskon = 0.1\n",
        "else :\n",
        "  diskon = 0\n",
        "\n",
        "bayar = total - (total * diskon)\n",
        "\n",
        "print(\"\\n========= Struk Belanja =========\")\n",
        "print(f\" barang : {brg}\")\n",
        "print(f\" Jumlah : {jml}\")\n",
        "print (f\" Total : Rp.{total}\")\n",
        "print (f\" Diskon : {diskon*100}%\")\n",
        "print (f\" Bayar : Rp.{bayar}\")"
      ],
      "metadata": {
        "colab": {
          "base_uri": "https://localhost:8080/"
        },
        "id": "lbqVhKhgGhAq",
        "outputId": "187fa930-f369-4d5b-b9b8-2c3912fb6faa"
      },
      "execution_count": 31,
      "outputs": [
        {
          "output_type": "stream",
          "name": "stdout",
          "text": [
            "Masukkan nama barang : pulpen\n",
            "Masukkan harga barang : 5000\n",
            "Masukkan jumlah barang : 10\n",
            "\n",
            "========= Struk Belanja =========\n",
            " barang : pulpen\n",
            " Jumlah : 10\n",
            " Total : Rp.50000.0\n",
            " Diskon : 0%\n",
            " Bayar : Rp.50000.0\n"
          ]
        }
      ]
    },
    {
      "cell_type": "code",
      "source": [],
      "metadata": {
        "id": "A5Zpu66OIMLn"
      },
      "execution_count": null,
      "outputs": []
    }
  ]
}