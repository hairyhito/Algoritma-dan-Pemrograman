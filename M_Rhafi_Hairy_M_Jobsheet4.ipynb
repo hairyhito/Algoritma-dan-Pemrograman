{
  "nbformat": 4,
  "nbformat_minor": 0,
  "metadata": {
    "colab": {
      "provenance": [],
      "authorship_tag": "ABX9TyO7qKQrdV1nKw2If7QtHCmM",
      "include_colab_link": true
    },
    "kernelspec": {
      "name": "python3",
      "display_name": "Python 3"
    },
    "language_info": {
      "name": "python"
    }
  },
  "cells": [
    {
      "cell_type": "markdown",
      "metadata": {
        "id": "view-in-github",
        "colab_type": "text"
      },
      "source": [
        "<a href=\"https://colab.research.google.com/github/hairyhito/Algoritma-dan-Pemrograman/blob/main/M_Rhafi_Hairy_M_Jobsheet4.ipynb\" target=\"_parent\"><img src=\"https://colab.research.google.com/assets/colab-badge.svg\" alt=\"Open In Colab\"/></a>"
      ]
    },
    {
      "cell_type": "markdown",
      "source": [
        "#PRAKTIKUM 04"
      ],
      "metadata": {
        "id": "jaxBm7Ojp8Kq"
      }
    },
    {
      "cell_type": "markdown",
      "source": [
        "Praktikum 01. Pengulangan For dengan Range"
      ],
      "metadata": {
        "id": "YUNhoG2j1SjW"
      }
    },
    {
      "cell_type": "code",
      "execution_count": null,
      "metadata": {
        "id": "AFXAlEkYkeZg",
        "colab": {
          "base_uri": "https://localhost:8080/"
        },
        "outputId": "99cad59f-3182-4ce4-e15d-8b4c25b4c8a1"
      },
      "outputs": [
        {
          "output_type": "stream",
          "name": "stdout",
          "text": [
            "1\n",
            "2\n",
            "3\n",
            "4\n",
            "5\n"
          ]
        }
      ],
      "source": [
        "for i in range(1,6):\n",
        "  print(i)"
      ]
    },
    {
      "cell_type": "markdown",
      "source": [
        "Praktikum 02. Perulangan While\n"
      ],
      "metadata": {
        "id": "_jRn3X1B2xKK"
      }
    },
    {
      "cell_type": "code",
      "source": [
        "n = int(input(\"Nilai n : \"))\n",
        "while n > 0 :\n",
        "  print(n)\n",
        "  n = n -1"
      ],
      "metadata": {
        "colab": {
          "base_uri": "https://localhost:8080/"
        },
        "id": "dH5A2CKq2L7e",
        "outputId": "2281e370-7917-4840-cb28-47aa3d28d125"
      },
      "execution_count": null,
      "outputs": [
        {
          "output_type": "stream",
          "name": "stdout",
          "text": [
            "Nilai n :5\n",
            "5\n",
            "4\n",
            "3\n",
            "2\n",
            "1\n"
          ]
        }
      ]
    },
    {
      "cell_type": "markdown",
      "source": [
        "Praktikum 03. Nested Loop"
      ],
      "metadata": {
        "id": "t3nItaxf3tuF"
      }
    },
    {
      "cell_type": "code",
      "source": [
        "for i in range (1,6) :\n",
        "  for j in range (1,i) :\n",
        "    print(\"*\", end=\"\")\n",
        "  print()"
      ],
      "metadata": {
        "colab": {
          "base_uri": "https://localhost:8080/"
        },
        "id": "Li4dSYWO3sxA",
        "outputId": "fa887c53-717a-45e6-ee0d-4f32efcdbe5d"
      },
      "execution_count": null,
      "outputs": [
        {
          "output_type": "stream",
          "name": "stdout",
          "text": [
            "\n",
            "*\n",
            "**\n",
            "***\n",
            "****\n"
          ]
        }
      ]
    },
    {
      "cell_type": "markdown",
      "source": [
        "Praktikum 04,1. Break"
      ],
      "metadata": {
        "id": "4xX4gcoI3rTU"
      }
    },
    {
      "cell_type": "code",
      "source": [
        "for i in range (1,11):\n",
        "  print (i)\n",
        "  if i == 5 :\n",
        "    print(\"Angka 5 Ditemukan\")\n",
        "    break\n",
        "\n"
      ],
      "metadata": {
        "colab": {
          "base_uri": "https://localhost:8080/"
        },
        "id": "2zvzo9-h3kOB",
        "outputId": "3d0115b1-1028-4021-d8fc-cd354311920f"
      },
      "execution_count": null,
      "outputs": [
        {
          "output_type": "stream",
          "name": "stdout",
          "text": [
            "1\n",
            "2\n",
            "3\n",
            "4\n",
            "5\n",
            "Angka 5 Ditemukan\n"
          ]
        }
      ]
    },
    {
      "cell_type": "markdown",
      "source": [
        "Praktikum 04,2. Continue"
      ],
      "metadata": {
        "id": "3jnslbZZ84d7"
      }
    },
    {
      "cell_type": "code",
      "source": [
        "for i in range(1,6):\n",
        "  if i % 2 == 1 :\n",
        "    continue\n",
        "  print (i)"
      ],
      "metadata": {
        "colab": {
          "base_uri": "https://localhost:8080/"
        },
        "id": "KcipMcx779go",
        "outputId": "094a0e62-1eb1-45ba-c3e2-f4d9e67e7308"
      },
      "execution_count": null,
      "outputs": [
        {
          "output_type": "stream",
          "name": "stdout",
          "text": [
            "2\n",
            "4\n"
          ]
        }
      ]
    },
    {
      "cell_type": "markdown",
      "source": [
        "Praktikum 05. For pada Dictionary"
      ],
      "metadata": {
        "id": "WILF0_Of-Oid"
      }
    },
    {
      "cell_type": "code",
      "source": [
        "data = {\"Nama\" : \"Andi\", \"Umur\" : 20, \"Prodi\" : \"TRK\"}\n",
        "for key, value in data.items():\n",
        "  print(key,\":\", value)"
      ],
      "metadata": {
        "colab": {
          "base_uri": "https://localhost:8080/"
        },
        "id": "qviFC6JC9o0f",
        "outputId": "aca36f2c-3213-4a3b-f42b-8ddf5d078c3d"
      },
      "execution_count": null,
      "outputs": [
        {
          "output_type": "stream",
          "name": "stdout",
          "text": [
            "Nama : Andi\n",
            "Umur : 20\n",
            "Prodi : TRK\n"
          ]
        }
      ]
    },
    {
      "cell_type": "markdown",
      "source": [
        "Praktikum 06. For dengan Enumerate"
      ],
      "metadata": {
        "id": "RlbJJyqc_VES"
      }
    },
    {
      "cell_type": "code",
      "source": [
        "daftar = [\"Andi\", \"Budi\", \"Cici\"]\n",
        "for i, nama in enumerate(daftar, start=1):\n",
        "  print(i, nama)"
      ],
      "metadata": {
        "colab": {
          "base_uri": "https://localhost:8080/"
        },
        "id": "bhGmlcXX-9Pb",
        "outputId": "0d7be84e-6395-4222-d0e9-42c9a922a330"
      },
      "execution_count": null,
      "outputs": [
        {
          "output_type": "stream",
          "name": "stdout",
          "text": [
            "1 Andi\n",
            "2 Budi\n",
            "3 Cici\n"
          ]
        }
      ]
    },
    {
      "cell_type": "markdown",
      "source": [
        "Praktikum 07. Studi Kasus: Program Kasir Multi-Item"
      ],
      "metadata": {
        "id": "wX_IrhOaA479"
      }
    },
    {
      "cell_type": "code",
      "source": [
        "total = 0\n",
        "\n",
        "while True :\n",
        "  barang = input(\"Masukkan nama barang (ketik 'selesai' untuk berhenti): \")\n",
        "  if barang.lower() == \"selesai\" :\n",
        "    break\n",
        "  harga = float(input(f\"Masukkan harga {barang}: \"))\n",
        "  jumlah = int(input(f\"Masukkan jumlah {barang}: \"))\n",
        "  total += harga * jumlah\n",
        "\n",
        "print(f\"Total belanja: {total}\")"
      ],
      "metadata": {
        "colab": {
          "base_uri": "https://localhost:8080/"
        },
        "id": "g0GlZmaG_1q3",
        "outputId": "b70be743-fcf7-45c2-f578-454294f10bbb"
      },
      "execution_count": null,
      "outputs": [
        {
          "output_type": "stream",
          "name": "stdout",
          "text": [
            "Masukkan nama barang (ketik 'selesai' untuk berhenti): makanan\n",
            "Masukkan hargamakanan: 2000\n",
            "Masukkan jumlah makanan: 2\n",
            "Masukkan nama barang (ketik 'selesai' untuk berhenti): selesai\n",
            "Total belanja: 4000.0\n"
          ]
        }
      ]
    },
    {
      "cell_type": "markdown",
      "source": [
        "#PENUGASAN PRAKTIKUM 04"
      ],
      "metadata": {
        "id": "np4yVq5DqL7C"
      }
    },
    {
      "cell_type": "markdown",
      "source": [
        "Penugasan 01. Menampilkan Deret Angka"
      ],
      "metadata": {
        "id": "13HYbLj_rFB5"
      }
    },
    {
      "cell_type": "code",
      "source": [
        "for i in range(3,30,3):\n",
        "  print(i)"
      ],
      "metadata": {
        "id": "WmTXQzKLA3mv",
        "colab": {
          "base_uri": "https://localhost:8080/"
        },
        "outputId": "d7c73b43-cac6-4364-8af8-1c53c46cb189"
      },
      "execution_count": null,
      "outputs": [
        {
          "output_type": "stream",
          "name": "stdout",
          "text": [
            "3\n",
            "6\n",
            "9\n",
            "12\n",
            "15\n",
            "18\n",
            "21\n",
            "24\n",
            "27\n"
          ]
        }
      ]
    },
    {
      "cell_type": "markdown",
      "source": [
        "Penugasan 02. Hitung Faktorial"
      ],
      "metadata": {
        "id": "FDyUTFqtsLjA"
      }
    },
    {
      "cell_type": "code",
      "source": [
        "n = int(input(\"Masukkan nilai n: \"))\n",
        "faktorial = 1\n",
        "while n > 0 :\n",
        "  faktorial *= n\n",
        "  n -= 1\n",
        "print(f\"Faktorialnya adalah {faktorial}\")"
      ],
      "metadata": {
        "colab": {
          "base_uri": "https://localhost:8080/"
        },
        "id": "xmgyTwDQqS2Q",
        "outputId": "a0f675dc-38db-4da0-a5ca-6001b92393f4"
      },
      "execution_count": null,
      "outputs": [
        {
          "output_type": "stream",
          "name": "stdout",
          "text": [
            "Masukkan nilai n: 34\n",
            "Faktorialnya adalah 295232799039604140847618609643520000000\n"
          ]
        }
      ]
    },
    {
      "cell_type": "markdown",
      "source": [
        "Penugasan 03. Pola Segitiga Terbalik"
      ],
      "metadata": {
        "id": "_AD3XA1awXY4"
      }
    },
    {
      "cell_type": "code",
      "source": [
        "for i in range (1,6) :\n",
        "  for j in range (i,6) :\n",
        "    print(\"*\", end=\"\")\n",
        "  print()"
      ],
      "metadata": {
        "colab": {
          "base_uri": "https://localhost:8080/"
        },
        "id": "A3lVVYMMtNnx",
        "outputId": "1b2099a9-ceec-4793-99b2-fef6b5af030e"
      },
      "execution_count": null,
      "outputs": [
        {
          "output_type": "stream",
          "name": "stdout",
          "text": [
            "*****\n",
            "****\n",
            "***\n",
            "**\n",
            "*\n"
          ]
        }
      ]
    },
    {
      "cell_type": "markdown",
      "source": [
        "Penugasan 04. Cari Bilangan Prima dengan Break"
      ],
      "metadata": {
        "id": "4JUFFtEEx4CK"
      }
    },
    {
      "cell_type": "code",
      "source": [
        "n = int(input(\"Masukkan nilai n: \"))\n",
        "for i in range(2,n):\n",
        "  if n % i == 0:\n",
        "    print(f\"{n} bukan bilangan prima\")\n",
        "    break\n",
        "else:\n",
        "  print(f\"{n} adalah bilangan prima\")"
      ],
      "metadata": {
        "colab": {
          "base_uri": "https://localhost:8080/"
        },
        "id": "XgMAPefIxYWp",
        "outputId": "e52587db-8f1d-4954-d010-afa96e521c1c"
      },
      "execution_count": null,
      "outputs": [
        {
          "output_type": "stream",
          "name": "stdout",
          "text": [
            "Masukkan nilai n: 4\n",
            "4 bukan bilangan prima\n"
          ]
        }
      ]
    },
    {
      "cell_type": "markdown",
      "source": [
        "Penugasan 05. Tampilkan Hanya Bilangan Genap dengan Continue"
      ],
      "metadata": {
        "id": "Kv3vmgQLypnz"
      }
    },
    {
      "cell_type": "code",
      "source": [
        "for i in range(1,21):\n",
        "  if i % 2 == 1 :\n",
        "    continue\n",
        "  print (i)"
      ],
      "metadata": {
        "colab": {
          "base_uri": "https://localhost:8080/"
        },
        "id": "d3LyJUlYyKn0",
        "outputId": "5bbd68f6-0b82-4041-ca0f-a43162ce06fa"
      },
      "execution_count": null,
      "outputs": [
        {
          "output_type": "stream",
          "name": "stdout",
          "text": [
            "2\n",
            "4\n",
            "6\n",
            "8\n",
            "10\n",
            "12\n",
            "14\n",
            "16\n",
            "18\n",
            "20\n"
          ]
        }
      ]
    },
    {
      "cell_type": "markdown",
      "source": [
        "Penugasan 06. Iterasi Dictionary Mahasiswa"
      ],
      "metadata": {
        "id": "KZI2MmfhzFsA"
      }
    },
    {
      "cell_type": "code",
      "source": [
        "mahasiswa = {\"Nama\":\"Budi\", \"Umur\":21, \"Prodi\":\"Teknik Komputer\"}\n",
        "for key, value in mahasiswa.items() :\n",
        "  print(key, \":\", value)"
      ],
      "metadata": {
        "colab": {
          "base_uri": "https://localhost:8080/"
        },
        "id": "1JOpf2QEzAil",
        "outputId": "aba6bfb0-8609-4170-c5a2-5508d2ddffcc"
      },
      "execution_count": null,
      "outputs": [
        {
          "output_type": "stream",
          "name": "stdout",
          "text": [
            "Nama : Budi\n",
            "Umur : 21\n",
            "Prodi : Teknik Komputer\n"
          ]
        }
      ]
    },
    {
      "cell_type": "markdown",
      "source": [
        "Penugasan 07. Enumerate Daftar Barang"
      ],
      "metadata": {
        "id": "aB6Bu6bfz7aO"
      }
    },
    {
      "cell_type": "code",
      "source": [
        "daftar = [\"Buku\",\"Pulpen\", \"Tas\"]\n",
        "for i, barang in enumerate(daftar, start=1) :\n",
        "  print(i, barang)"
      ],
      "metadata": {
        "colab": {
          "base_uri": "https://localhost:8080/"
        },
        "id": "ATB3s1QWzsTU",
        "outputId": "483860dd-5472-496f-feea-5bf212ff3d0d"
      },
      "execution_count": null,
      "outputs": [
        {
          "output_type": "stream",
          "name": "stdout",
          "text": [
            "1 Buku\n",
            "2 Pulpen\n",
            "3 Tas\n"
          ]
        }
      ]
    },
    {
      "cell_type": "markdown",
      "source": [
        "Penugasan 08. Studi Kasus-Kasir Diskon"
      ],
      "metadata": {
        "id": "gcCBtcIY0uCl"
      }
    },
    {
      "cell_type": "code",
      "source": [
        "total = 0\n",
        "\n",
        "while True :\n",
        "  barang = input(\"Masukkan nama barang (ketik 'selesai' untuk berhenti): \")\n",
        "  if barang.lower() == \"selesai\" :\n",
        "    break\n",
        "  harga = float(input(f\"Masukkan harga {barang}: \"))\n",
        "  jumlah = int(input(f\"Masukkan jumlah {barang}: \"))\n",
        "  total += harga * jumlah\n",
        "\n",
        "diskon = 0\n",
        "if total >= 200000 :\n",
        "  diskon = total * 0.1\n",
        "\n",
        "total -= diskon\n",
        "\n",
        "print(f\"Total belanja: {total}\")"
      ],
      "metadata": {
        "colab": {
          "base_uri": "https://localhost:8080/"
        },
        "id": "Ok2ZhP9S0cVt",
        "outputId": "d8ec492d-3b25-41b4-a7fe-4015887f3675"
      },
      "execution_count": 7,
      "outputs": [
        {
          "output_type": "stream",
          "name": "stdout",
          "text": [
            "Masukkan nama barang (ketik 'selesai' untuk berhenti): es\n",
            "Masukkan harga es: 200000\n",
            "Masukkan jumlah es: 1\n",
            "Masukkan nama barang (ketik 'selesai' untuk berhenti): selsai\n",
            "Masukkan harga selsai: 0\n",
            "Masukkan jumlah selsai: 0\n",
            "Masukkan nama barang (ketik 'selesai' untuk berhenti): selesai\n",
            "Total belanja: 180000.0\n"
          ]
        }
      ]
    },
    {
      "cell_type": "code",
      "source": [],
      "metadata": {
        "id": "z_wnWw_tXLTA"
      },
      "execution_count": null,
      "outputs": []
    }
  ]
}