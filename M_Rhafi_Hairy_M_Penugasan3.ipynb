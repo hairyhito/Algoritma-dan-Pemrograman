{
  "nbformat": 4,
  "nbformat_minor": 0,
  "metadata": {
    "colab": {
      "provenance": [],
      "authorship_tag": "ABX9TyOSz7TMVSma5fe2QClBQgDh",
      "include_colab_link": true
    },
    "kernelspec": {
      "name": "python3",
      "display_name": "Python 3"
    },
    "language_info": {
      "name": "python"
    }
  },
  "cells": [
    {
      "cell_type": "markdown",
      "metadata": {
        "id": "view-in-github",
        "colab_type": "text"
      },
      "source": [
        "<a href=\"https://colab.research.google.com/github/hairyhito/Algoritma-dan-Pemrograman/blob/main/M_Rhafi_Hairy_M_Penugasan3.ipynb\" target=\"_parent\"><img src=\"https://colab.research.google.com/assets/colab-badge.svg\" alt=\"Open In Colab\"/></a>"
      ]
    },
    {
      "cell_type": "markdown",
      "source": [
        "Penugasan 01. Cek Bilangan Positif/Negatif/Nol"
      ],
      "metadata": {
        "id": "GlOIwMgaaYjG"
      }
    },
    {
      "cell_type": "code",
      "source": [
        "ang = int(input(\"Masukkan Angka: \"))\n",
        "if ang > 0:\n",
        "    print(\"Bilangan Positif\")\n",
        "elif ang < 0:\n",
        "    print(\"Bilangan Negatif\")\n",
        "else:\n",
        "    print(\"Bilangan Nol\")"
      ],
      "metadata": {
        "colab": {
          "base_uri": "https://localhost:8080/"
        },
        "id": "gHvAxR14aYUe",
        "outputId": "886d1ecd-33a5-46f0-f667-2689bc9488a5"
      },
      "execution_count": 2,
      "outputs": [
        {
          "output_type": "stream",
          "name": "stdout",
          "text": [
            "Masukkan Angka: 5\n",
            "Bilangan Positif\n"
          ]
        }
      ]
    },
    {
      "cell_type": "markdown",
      "source": [
        "Penugasan 02. Menentukan Kategori Usia"
      ],
      "metadata": {
        "id": "nAmtADaBa_gH"
      }
    },
    {
      "cell_type": "code",
      "execution_count": 4,
      "metadata": {
        "id": "-bFUdT8_-OKZ",
        "colab": {
          "base_uri": "https://localhost:8080/"
        },
        "outputId": "e5ec89ba-06a9-459d-d1a2-35f229dc1413"
      },
      "outputs": [
        {
          "output_type": "stream",
          "name": "stdout",
          "text": [
            "Masukkan Umur: 50\n",
            "Anda termasuk dalam kategori umur dewasa\n"
          ]
        }
      ],
      "source": [
        "umur = int(input(\"Masukkan Umur: \"))\n",
        "if umur < 5 :\n",
        "    print(\"Anda termasuk dalam kategori umur balita\")\n",
        "elif umur >= 5 and umur <= 11:\n",
        "    print(\"Anda termasuk dalam kategori umur anak - anak\")\n",
        "elif umur >= 12 and umur <= 17:\n",
        "    print(\"Anda termasuk dalam kategori umur remaja\")\n",
        "elif umur >= 18 and umur <= 59:\n",
        "    print(\"Anda termasuk dalam kategori umur dewasa\")\n",
        "elif umur >= 60:\n",
        "    print(\"Anda termasuk dalam kategori umur lansia\")"
      ]
    },
    {
      "cell_type": "markdown",
      "source": [
        "Penugasan 03. Hitung Tarif Parkir"
      ],
      "metadata": {
        "id": "UPkeY4UBcW7P"
      }
    },
    {
      "cell_type": "code",
      "source": [
        "wkt = int(input(\"Masukkan Waktu Parkir (dalam jam): \"))\n",
        "t = 5000\n",
        "tb = 2000\n",
        "tm = 20000\n",
        "\n",
        "if wkt <= 2:\n",
        "    print(\"Tarif parkir Anda : \", t)\n",
        "elif wkt >= 3 and wkt <= 8:\n",
        "    th = t + (tb * (wkt - 2))\n",
        "    print(\"Tarif parkir Anda : \",th)\n",
        "else :\n",
        "    tarif = 20000"
      ],
      "metadata": {
        "colab": {
          "base_uri": "https://localhost:8080/"
        },
        "id": "wkqZOkYibtBB",
        "outputId": "5dc9be3b-5638-4e7b-bd9f-4fff451aa112"
      },
      "execution_count": 2,
      "outputs": [
        {
          "output_type": "stream",
          "name": "stdout",
          "text": [
            "Masukkan Waktu Parkir (dalam jam): 7\n",
            "Tarif parkir Anda :  15000\n"
          ]
        }
      ]
    },
    {
      "cell_type": "markdown",
      "source": [
        "Penugasan 04. Cek Login Sederhana"
      ],
      "metadata": {
        "id": "-Y5Zqg8cCgHk"
      }
    },
    {
      "cell_type": "code",
      "source": [
        "user = str(input(\"Masukkan Username Anda : \"))\n",
        "pw = str(input(\"Masukkan Password Anda : \"))\n",
        "\n",
        "if user == \"admin\" and pw == \"1234\" :\n",
        "    print(\"Login Berhasil\")\n",
        "else :\n",
        "    print(\"Login Gagal\")"
      ],
      "metadata": {
        "colab": {
          "base_uri": "https://localhost:8080/"
        },
        "id": "gEcCdS9fCKbS",
        "outputId": "9e94e4b1-c4eb-4552-ec16-62f98e5bb937"
      },
      "execution_count": 9,
      "outputs": [
        {
          "output_type": "stream",
          "name": "stdout",
          "text": [
            "Masukkan Username Anda : admin\n",
            "Masukkan Password Anda : 1234\n",
            "Login Berhasil\n"
          ]
        }
      ]
    },
    {
      "cell_type": "markdown",
      "source": [
        "Penugasan 05. Cek Genap / Ganjil\n",
        "\n",
        "\n"
      ],
      "metadata": {
        "id": "SibRr9KXeKwy"
      }
    },
    {
      "cell_type": "code",
      "source": [
        "angka = int(input(\"Masukkan Angka : \"))\n",
        "if angka % 2 == 0:\n",
        "    print(\"Angka Anda Genap\")\n",
        "else :\n",
        "    print(\"Angka Anda Ganjil\")"
      ],
      "metadata": {
        "colab": {
          "base_uri": "https://localhost:8080/"
        },
        "id": "Wzw_C3QPdV3V",
        "outputId": "1f9ba984-e252-4da8-e603-f19b85b3de5e"
      },
      "execution_count": 10,
      "outputs": [
        {
          "output_type": "stream",
          "name": "stdout",
          "text": [
            "Masukkan Angka : 39\n",
            "Angka Anda Ganjil\n"
          ]
        }
      ]
    },
    {
      "cell_type": "markdown",
      "source": [
        "Penugasan 06. Menu Restoran dengan Match-Case"
      ],
      "metadata": {
        "id": "ozpY6fjeihfj"
      }
    },
    {
      "cell_type": "code",
      "source": [
        "menu = int(input(\"Masukkan pilihan Anda (Pilih 1-3): \"))\n",
        "match menu :\n",
        "  case 1 :\n",
        "    print(\"Anda memilih Nasi Goreng\")\n",
        "  case 2 :\n",
        "    print(\"Anda memilih Miayam \")\n",
        "  case 3 :\n",
        "    print(\"Anda memilih Soto Ayam \")\n",
        "  case _ :\n",
        "    print(\"Pilihan tidak tersedia\")"
      ],
      "metadata": {
        "colab": {
          "base_uri": "https://localhost:8080/"
        },
        "id": "wt8nRGPGiZPn",
        "outputId": "c876c06e-4dda-4239-b24d-30629525d4a8"
      },
      "execution_count": 12,
      "outputs": [
        {
          "output_type": "stream",
          "name": "stdout",
          "text": [
            "Masukkan pilihan Anda (Pilih 1-3): 2\n",
            "Anda memilih Miayam \n"
          ]
        }
      ]
    },
    {
      "cell_type": "markdown",
      "source": [
        "Penugasan 07. Studi Kasus Nyata - Program Penentuan Diskon"
      ],
      "metadata": {
        "id": "7u4OvAqZjCFq"
      }
    },
    {
      "cell_type": "code",
      "source": [
        "brg = str(input(\"Masukkan nama barang : \"))\n",
        "hrg = float(input(\"Masukkan harga barang : \"))\n",
        "jml = int(input(\"Masukkan jumlah barang : \"))\n",
        "\n",
        "total = hrg*jml\n",
        "if total >= 500000 :\n",
        "  diskon = 0.2\n",
        "elif total >= 250000 :\n",
        "  diskon = 0.1\n",
        "else :\n",
        "  diskon = 0\n",
        "\n",
        "bayar = total - (total * diskon)\n",
        "\n",
        "print(\"\\n========= Struk Belanja =========\")\n",
        "print(f\" barang : {brg}\")\n",
        "print(f\" Jumlah : {jml}\")\n",
        "print (f\" Total : Rp.{total}\")\n",
        "print (f\" Diskon : {diskon*100}%\")\n",
        "print (f\" Bayar : Rp.{bayar}\")"
      ],
      "metadata": {
        "colab": {
          "base_uri": "https://localhost:8080/"
        },
        "id": "LLRBlQpYitxr",
        "outputId": "65d379d2-5f51-4f48-82bc-90822110da15"
      },
      "execution_count": 13,
      "outputs": [
        {
          "output_type": "stream",
          "name": "stdout",
          "text": [
            "Masukkan nama barang : esteh\n",
            "Masukkan harga barang : 3000\n",
            "Masukkan jumlah barang : 100\n",
            "\n",
            "========= Struk Belanja =========\n",
            " barang : esteh\n",
            " Jumlah : 100\n",
            " Total : Rp.300000.0\n",
            " Diskon : 10.0%\n",
            " Bayar : Rp.270000.0\n"
          ]
        }
      ]
    },
    {
      "cell_type": "code",
      "source": [],
      "metadata": {
        "id": "SvzU8v48jN0o"
      },
      "execution_count": null,
      "outputs": []
    }
  ]
}