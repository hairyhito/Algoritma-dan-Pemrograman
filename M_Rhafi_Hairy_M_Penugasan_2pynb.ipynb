{
  "nbformat": 4,
  "nbformat_minor": 0,
  "metadata": {
    "colab": {
      "provenance": [],
      "authorship_tag": "ABX9TyOu32C16CdlIVWqzrStnphl",
      "include_colab_link": true
    },
    "kernelspec": {
      "name": "python3",
      "display_name": "Python 3"
    },
    "language_info": {
      "name": "python"
    }
  },
  "cells": [
    {
      "cell_type": "markdown",
      "metadata": {
        "id": "view-in-github",
        "colab_type": "text"
      },
      "source": [
        "<a href=\"https://colab.research.google.com/github/hairyhito/Algoritma-dan-Pemrograman/blob/main/M_Rhafi_Hairy_M_Penugasan_2pynb.ipynb\" target=\"_parent\"><img src=\"https://colab.research.google.com/assets/colab-badge.svg\" alt=\"Open In Colab\"/></a>"
      ]
    },
    {
      "cell_type": "markdown",
      "source": [],
      "metadata": {
        "id": "bYswh1lbX2qc"
      }
    },
    {
      "cell_type": "markdown",
      "source": [
        "Penugasan 01. Identitas Mahasiswa"
      ],
      "metadata": {
        "id": "MqRriHfnX5_i"
      }
    },
    {
      "cell_type": "code",
      "execution_count": 11,
      "metadata": {
        "colab": {
          "base_uri": "https://localhost:8080/"
        },
        "id": "sGM1LfMAXpre",
        "outputId": "4cc4c03d-26b3-4d62-eb9c-a79f6cafc7c9"
      },
      "outputs": [
        {
          "output_type": "stream",
          "name": "stdout",
          "text": [
            "Masukkan Nama Anda : Ruski\n",
            "Masukkan Umur Anda : 19\n",
            "Masukkan Tinggi Anda : 156\n",
            "Status Aktif :  True\n",
            "Hai Ruski, saat ini kamu berusia 19 tahun dengan tinggi badan 156.0 cm dan True sebagai mahasiswa\n"
          ]
        }
      ],
      "source": [
        "nm = str(input(\"Masukkan Nama Anda : \"))\n",
        "um = int(input(\"Masukkan Umur Anda : \"))\n",
        "tg = float(input(\"Masukkan Tinggi Anda : \"))\n",
        "mh = (print(\"Status Aktif : \", True))\n",
        "mh = True\n",
        "  #if mh == True :\n",
        "   # ms = print(\"Aktif\")\n",
        "  #else :\n",
        "   # ms = print(\"Tidak Aktif\")\n",
        "\n",
        "print(f\"Hai {nm}, saat ini kamu berusia {um} tahun dengan tinggi badan {tg} cm dan {mh} sebagai mahasiswa\" )"
      ]
    },
    {
      "cell_type": "markdown",
      "source": [
        "Penugasan 02. Operasi Aritmatika"
      ],
      "metadata": {
        "id": "n4wpkFuNfXI3"
      }
    },
    {
      "cell_type": "code",
      "source": [
        "a = int(input(\"Nilai a = \"))\n",
        "b = int(input(\"Nilai b = \"))\n",
        "\n",
        "print (\"a + b =\", a+b)\n",
        "print (\"a - b =\", a-b)\n",
        "print (\"a * b =\", a*b)\n",
        "print (\"a / b =\", a/b)\n",
        "print (\"a // b =\", a//b)\n",
        "print (\"a % b =\", a%b)\n",
        "print (\"a ^ b =\", a**b)\n"
      ],
      "metadata": {
        "colab": {
          "base_uri": "https://localhost:8080/"
        },
        "id": "1BeX8U_TazKx",
        "outputId": "ca269ae6-8010-4c86-b11e-fabe3a5053c9"
      },
      "execution_count": 13,
      "outputs": [
        {
          "output_type": "stream",
          "name": "stdout",
          "text": [
            "Nilai a = 20\n",
            "Nilai b = 10\n",
            "a + b = 30\n",
            "a - b = 10\n",
            "a * b = 200\n",
            "a / b = 2.0\n",
            "a // b = 2\n",
            "a % b = 0\n",
            "a ^ b = 10240000000000\n"
          ]
        }
      ]
    },
    {
      "cell_type": "markdown",
      "source": [
        "Penugasan 03. Konversi Nilai"
      ],
      "metadata": {
        "id": "vJv-jzLQgbiz"
      }
    },
    {
      "cell_type": "code",
      "source": [
        "a = float(input(\"Nilai angka = \"))\n",
        "print(type (a), a)\n",
        "\n",
        "b = int(a)\n",
        "print(type(b), b)\n",
        "\n",
        "c = str(a)\n",
        "print(type(c), c)\n",
        "\n",
        "d = (round(a))\n",
        "print(type(d), d)"
      ],
      "metadata": {
        "colab": {
          "base_uri": "https://localhost:8080/"
        },
        "id": "Asicpc03gCwB",
        "outputId": "7b8fe289-e4ea-43c6-a321-73c3bca125b2"
      },
      "execution_count": 21,
      "outputs": [
        {
          "output_type": "stream",
          "name": "stdout",
          "text": [
            "Nilai angka = 123.56\n",
            "<class 'float'> 123.56\n",
            "<class 'int'> 123\n",
            "<class 'str'> 123.56\n",
            "<class 'int'> 124\n"
          ]
        }
      ]
    },
    {
      "cell_type": "markdown",
      "source": [
        "Penugasan 04. Operator Relasional"
      ],
      "metadata": {
        "id": "aZXIUZYvi_fm"
      }
    },
    {
      "cell_type": "code",
      "source": [
        "a = int(input(\"Nilai a = \"))\n",
        "b = int(input(\"Nilai b = \"))\n",
        "\n",
        "print (\"a == b =\", a==b)\n",
        "print (\"a != b =\", a!=b)\n",
        "print (\"a >= b =\", a>=b)\n",
        "print (\"a <= b =\", a<=b)\n",
        "print (\"a > b =\", a>b)\n",
        "print (\"a < b =\", a<b)\n"
      ],
      "metadata": {
        "colab": {
          "base_uri": "https://localhost:8080/"
        },
        "id": "i6GPahu-g4xz",
        "outputId": "da4826ba-84f7-4ae8-a300-f4f565d560e7"
      },
      "execution_count": 22,
      "outputs": [
        {
          "output_type": "stream",
          "name": "stdout",
          "text": [
            "Nilai a = 20\n",
            "Nilai b = 12\n",
            "a == b = False\n",
            "a != b = True\n",
            "a >= b = True\n",
            "a <= b = False\n",
            "a > b = True\n",
            "a < b = False\n"
          ]
        }
      ]
    },
    {
      "cell_type": "code",
      "source": [],
      "metadata": {
        "id": "Hx8i91zVjiEw"
      },
      "execution_count": null,
      "outputs": []
    }
  ]
}