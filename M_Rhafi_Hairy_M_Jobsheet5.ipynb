{
  "nbformat": 4,
  "nbformat_minor": 0,
  "metadata": {
    "colab": {
      "provenance": [],
      "toc_visible": true,
      "authorship_tag": "ABX9TyNmqPkC8O889CwcvaEGO4Bh",
      "include_colab_link": true
    },
    "kernelspec": {
      "name": "python3",
      "display_name": "Python 3"
    },
    "language_info": {
      "name": "python"
    }
  },
  "cells": [
    {
      "cell_type": "markdown",
      "metadata": {
        "id": "view-in-github",
        "colab_type": "text"
      },
      "source": [
        "<a href=\"https://colab.research.google.com/github/hairyhito/Algoritma-dan-Pemrograman/blob/main/M_Rhafi_Hairy_M_Jobsheet5.ipynb\" target=\"_parent\"><img src=\"https://colab.research.google.com/assets/colab-badge.svg\" alt=\"Open In Colab\"/></a>"
      ]
    },
    {
      "cell_type": "markdown",
      "source": [
        "# Praktikum 05"
      ],
      "metadata": {
        "id": "Fdvemdee3JyF"
      }
    },
    {
      "cell_type": "markdown",
      "source": [
        "Praktikum 01. Indexing dan slicing"
      ],
      "metadata": {
        "id": "SttY-L_-Rdz1"
      }
    },
    {
      "cell_type": "code",
      "execution_count": null,
      "metadata": {
        "colab": {
          "base_uri": "https://localhost:8080/"
        },
        "id": "Ntjyw-PERdEy",
        "outputId": "ec4a05d9-513f-464a-a14b-e8ae0c4431df"
      },
      "outputs": [
        {
          "output_type": "stream",
          "name": "stdout",
          "text": [
            "Politeknik \n"
          ]
        }
      ],
      "source": [
        "teks =\"Politeknik Negeri Semarang\"\n",
        "\n",
        "print(teks[0:11])"
      ]
    },
    {
      "cell_type": "markdown",
      "source": [
        "Praktikum 02. Method Bawaan String"
      ],
      "metadata": {
        "id": "OZQ7yIBiSFL4"
      }
    },
    {
      "cell_type": "code",
      "source": [
        "teks=\"Politeknik Negeri Semarang\"\n",
        "print(teks.upper())\n",
        "print(teks.lower())\n",
        "print(teks.title())\n",
        "print(teks.strip())\n",
        "print(teks.split(\" \"))\n",
        "print(\"-\".join([\"Politeknik\",\"Negeri\",\"Semarang\"]))"
      ],
      "metadata": {
        "colab": {
          "base_uri": "https://localhost:8080/"
        },
        "id": "ipDsSt34SFx6",
        "outputId": "88925a70-b8f9-4383-91ae-60ade93d1a1f"
      },
      "execution_count": null,
      "outputs": [
        {
          "output_type": "stream",
          "name": "stdout",
          "text": [
            "POLITEKNIK NEGERI SEMARANG\n",
            "politeknik negeri semarang\n",
            "Politeknik Negeri Semarang\n",
            "Politeknik Negeri Semarang\n",
            "['Politeknik', 'Negeri', 'Semarang']\n",
            "Politeknik-Negeri-Semarang\n"
          ]
        }
      ]
    },
    {
      "cell_type": "markdown",
      "source": [
        "Praktikum 03. Valisdasi Password"
      ],
      "metadata": {
        "id": "tfEelwMoTexG"
      }
    },
    {
      "cell_type": "code",
      "source": [
        "password = input(\"Masukkan Password: \")\n",
        "if len(password) >= 8:\n",
        "    print(\"Password valid\")\n",
        "else :\n",
        "    print(\"Password terlalu pendek\")\n"
      ],
      "metadata": {
        "colab": {
          "base_uri": "https://localhost:8080/"
        },
        "id": "jYYPpY3JR9au",
        "outputId": "29df58a3-4b2a-4407-b866-ac3732f28b1f"
      },
      "execution_count": null,
      "outputs": [
        {
          "output_type": "stream",
          "name": "stdout",
          "text": [
            "Masukkan Password: alskdna'lkdnankld\n",
            "Password valid\n"
          ]
        }
      ]
    },
    {
      "cell_type": "markdown",
      "source": [
        "Praktikum 04. String Formatting dengan F-String"
      ],
      "metadata": {
        "id": "UlnqX-oJUk_4"
      }
    },
    {
      "cell_type": "code",
      "source": [
        "nama = input(\"Masukkan Nama Anda:\")\n",
        "umur = int(input(\"Masukkan Umur Anda:\"))\n",
        "print(f\"Nama Anda adalah {nama} dan umur Anda adalah {umur} tahun\")"
      ],
      "metadata": {
        "colab": {
          "base_uri": "https://localhost:8080/"
        },
        "id": "RF9O_JkpTvIS",
        "outputId": "c7b3ff38-24cd-4f0d-b7b7-1a246a62e698"
      },
      "execution_count": null,
      "outputs": [
        {
          "output_type": "stream",
          "name": "stdout",
          "text": [
            "Masukkan Nama Anda:samsul\n",
            "Masukkan Umur Anda:12\n",
            "Nama Anda adalah samsul dan umur Anda adalah 12 tahun\n"
          ]
        }
      ]
    },
    {
      "cell_type": "markdown",
      "source": [
        "Praktikum 05. Operasi dalam F-String"
      ],
      "metadata": {
        "id": "GVF940xgXLzf"
      }
    },
    {
      "cell_type": "code",
      "source": [
        "a = int(input(\"Masukkan nilai a:\"))\n",
        "b = int(input(\"Masukkan nilai b:\"))\n",
        "print(f\"Hasil penjumlahan {a} dan {b} adalah {a+b}\")\n",
        "print(f\"Hasil pengurangan {a} dan {b} adalah {a-b}\")\n",
        "print(f\"Hasil perkalian {a} dan {b} adalah {a*b}\")\n",
        "print(f\"Hasil pembagian {a} dan {b} adalah {a/b}\")"
      ],
      "metadata": {
        "colab": {
          "base_uri": "https://localhost:8080/"
        },
        "id": "5Oih1Dv0XJrh",
        "outputId": "c0a31ee9-bfc7-4756-8d73-b4a441991f8e"
      },
      "execution_count": null,
      "outputs": [
        {
          "output_type": "stream",
          "name": "stdout",
          "text": [
            "Masukkan nilai a:5\n",
            "Masukkan nilai b:5\n",
            "Hasil penjumlahan 5 dan 5 adalah 10\n",
            "Hasil pengurangan 5 dan 5 adalah 0\n",
            "Hasil perkalian 5 dan 5 adalah 25\n",
            "Hasil pembagian 5 dan 5 adalah 1.0\n"
          ]
        }
      ]
    },
    {
      "cell_type": "markdown",
      "source": [
        "Praktikum 06. Casting String"
      ],
      "metadata": {
        "id": "jSMcAHx-XlvT"
      }
    },
    {
      "cell_type": "code",
      "source": [
        "angka = 123\n",
        "teks = \"456\"\n",
        "print( \"Nilai: \" + str(angka))\n",
        "print(int(teks) + 10)"
      ],
      "metadata": {
        "colab": {
          "base_uri": "https://localhost:8080/"
        },
        "id": "TsZgYreEXiMi",
        "outputId": "b1ac306a-bc96-4ec5-c76a-1a999a0af70f"
      },
      "execution_count": null,
      "outputs": [
        {
          "output_type": "stream",
          "name": "stdout",
          "text": [
            "Nilai: 123\n",
            "466\n"
          ]
        }
      ]
    },
    {
      "cell_type": "markdown",
      "source": [
        "Praktikum 07. Studi Kasus Nyata-Analisis Kalimat\n"
      ],
      "metadata": {
        "id": "AM5jk5X-YVRe"
      }
    },
    {
      "cell_type": "code",
      "source": [
        "teks = \"Saya Kuliah di Politeknik Negeri Semarang\"\n",
        "daftar_kata = teks.split(\" \")\n",
        "print(f\"Jumlah kata dalam teks adalah {len(daftar_kata)}\")\n",
        "for i, kata in enumerate(daftar_kata, start = 1):\n",
        "    print(i, kata)"
      ],
      "metadata": {
        "colab": {
          "base_uri": "https://localhost:8080/"
        },
        "id": "mBd-rYg_Xupi",
        "outputId": "8ebe1c91-c619-4f7a-a74b-e5cc293e228e"
      },
      "execution_count": null,
      "outputs": [
        {
          "output_type": "stream",
          "name": "stdout",
          "text": [
            "Jumlah kata dalam teks adalah 6\n",
            "1 Saya\n",
            "2 Kuliah\n",
            "3 di\n",
            "4 Politeknik\n",
            "5 Negeri\n",
            "6 Semarang\n"
          ]
        }
      ]
    },
    {
      "cell_type": "markdown",
      "source": [
        "# Penugasan 05"
      ],
      "metadata": {
        "id": "pKB7SKyC2Chu"
      }
    },
    {
      "cell_type": "markdown",
      "source": [
        "Penugasan 01. Indexing dan Slicing"
      ],
      "metadata": {
        "id": "qH1426hM3QZZ"
      }
    },
    {
      "cell_type": "code",
      "source": [
        "teks = \"Politeknik Negeri Semarang\"\n",
        "print(teks[0])\n",
        "print(teks[25])\n",
        "print(teks[11:17])"
      ],
      "metadata": {
        "id": "C-LuVsjAZurs",
        "colab": {
          "base_uri": "https://localhost:8080/"
        },
        "outputId": "93b43b85-94b7-4124-bc16-690571ee60a5"
      },
      "execution_count": null,
      "outputs": [
        {
          "output_type": "stream",
          "name": "stdout",
          "text": [
            "P\n",
            "g\n",
            "Negeri\n"
          ]
        }
      ]
    },
    {
      "cell_type": "markdown",
      "source": [
        "Penugasan 02. Manipulasi String"
      ],
      "metadata": {
        "id": "1OU5mVmi7rnd"
      }
    },
    {
      "cell_type": "code",
      "source": [
        "n = input(\"Masukkan Kalimat:\")\n",
        "print(\"Kalimat Anda adalah\", n.upper())\n",
        "print(\"Kalimat Anda adalah\", n.lower())\n",
        "#panjang = len(n)\n",
        "print(f\"Jumlah kata dalam teks adalah {len(n)}\")"
      ],
      "metadata": {
        "colab": {
          "base_uri": "https://localhost:8080/"
        },
        "id": "HIqXxIIK6ldr",
        "outputId": "41c57f32-b34d-439e-ed80-12ce7a95bbea"
      },
      "execution_count": null,
      "outputs": [
        {
          "output_type": "stream",
          "name": "stdout",
          "text": [
            "Masukkan Kalimat:makan laha seblum minum \n",
            "Kalimat Anda adalah MAKAN LAHA SEBLUM MINUM \n",
            "Kalimat Anda adalah makan laha seblum minum \n",
            "Jumlah kata dalam teks adalah 24\n"
          ]
        }
      ]
    },
    {
      "cell_type": "markdown",
      "source": [
        "Penugasan 03. Validasi Username"
      ],
      "metadata": {
        "id": "9pSNIHRQFfFw"
      }
    },
    {
      "cell_type": "code",
      "source": [
        "n = input(\"Masukkan Username (NO SPACE):\")\n",
        "if \" \" in n :\n",
        "    print(\" ERORR, Username mengandung spasi\")\n",
        "else :\n",
        "    print(\"Username Valid\")"
      ],
      "metadata": {
        "colab": {
          "base_uri": "https://localhost:8080/"
        },
        "id": "uNJoUj-v8tef",
        "outputId": "cffabb1f-ea4f-46e9-eeee-3d352fa46892"
      },
      "execution_count": null,
      "outputs": [
        {
          "output_type": "stream",
          "name": "stdout",
          "text": [
            "Masukkan Username (NO SPACE):sd s ds\n",
            " ERORR, Username mengandung spasi\n"
          ]
        }
      ]
    },
    {
      "cell_type": "markdown",
      "source": [
        "Penugasan 04. String Formatting dengan F-String"
      ],
      "metadata": {
        "id": "QkoEOuWSHUQX"
      }
    },
    {
      "cell_type": "code",
      "source": [
        "n = input(\"Masukkan Nama Anda: \")\n",
        "u = int(input(\"Masukkan Umur Anda: \"))\n",
        "j = input(\"Masukkan Jurusan Anda: \")\n",
        "print(f\"Nama Anda adalah {n} umur Anda adalah {u} tahun dan Jurusan Anda adalah {j}\")"
      ],
      "metadata": {
        "colab": {
          "base_uri": "https://localhost:8080/"
        },
        "id": "B_7nIJZmGVse",
        "outputId": "79b8fe12-6ac8-45fb-e74b-5bec4a53aee1"
      },
      "execution_count": null,
      "outputs": [
        {
          "output_type": "stream",
          "name": "stdout",
          "text": [
            "Masukkan Nama Anda: samsar\n",
            "Masukkan Umur Anda: 23\n",
            "Masukkan Jurusan Anda: kmi\n",
            "Nama Anda adalah samsar umur Anda adalah 23 tahun dan Jurusan Anda adalah kmi\n"
          ]
        }
      ]
    },
    {
      "cell_type": "markdown",
      "source": [
        "Penugasan 05. Operasi dalam F-String"
      ],
      "metadata": {
        "id": "bmtt5mODNfl3"
      }
    },
    {
      "cell_type": "code",
      "source": [
        "n = int(input(\"Masukkan Nilai Pertama: \"))\n",
        "m = int(input(\"Masukkan Nilai Kedua: \"))\n",
        "print(f\"Hasil Penjumlahan {n} dan {m} adalah {n+m}\")\n",
        "print(f\"Hasil Perkalian {n} dan {m} adalah {n*m}\")\n",
        "print(f\"Hasil Pembagian {n} dan {m} adalah {n/m:.3f}\")"
      ],
      "metadata": {
        "colab": {
          "base_uri": "https://localhost:8080/"
        },
        "id": "jbA-H7_nNchw",
        "outputId": "6be1399c-4bc4-4670-a751-f0305eec9098"
      },
      "execution_count": null,
      "outputs": [
        {
          "output_type": "stream",
          "name": "stdout",
          "text": [
            "Masukkan Nilai Pertama: 023\n",
            "Masukkan Nilai Kedua: 4\n",
            "Hasil Penjumlahan 23 dan 4 adalah 27\n",
            "Hasil Perkalian 23 dan 4 adalah 92\n",
            "Hasil Pembagian 23 dan 4 adalah 5.750\n"
          ]
        }
      ]
    },
    {
      "cell_type": "markdown",
      "source": [
        "Penugasan 06. Casting Data"
      ],
      "metadata": {
        "id": "qjLup-cTOmP9"
      }
    },
    {
      "cell_type": "code",
      "source": [
        "n = input(\"Masukkan Nilai a: \")\n",
        "print(f\"Hasil Kuadrat dari bilangan {n} adalah {int(n) ** 2}\")\n",
        "print(f\"{float(n) ** 2:.2f}\")"
      ],
      "metadata": {
        "colab": {
          "base_uri": "https://localhost:8080/"
        },
        "id": "Anti-OsaOqKf",
        "outputId": "7aa7f839-2bda-4b40-edda-a07fb9b4b7ea"
      },
      "execution_count": null,
      "outputs": [
        {
          "output_type": "stream",
          "name": "stdout",
          "text": [
            "Masukkan Nilai a: 34\n",
            "Hasil Kuadrat dari bilangan 34 adalah 1156\n",
            "1156.00\n"
          ]
        }
      ]
    },
    {
      "cell_type": "markdown",
      "source": [
        "Penugasan 07. Studi Kasus - Analisis Teks"
      ],
      "metadata": {
        "id": "6xcp9Az4SeXC"
      }
    },
    {
      "cell_type": "code",
      "source": [
        "kali = input(\"Masukkan Kalimat Anda: \")\n",
        "daftar_kata = kali.split(\" \")\n",
        "print(f\"Jumlah kata dalam teks adalah: {len(daftar_kata)}\")\n",
        "\n",
        "kata_terpanjang = max(daftar_kata, key=len)\n",
        "print(f\"Kata terpanjang dalam teks adalah: {kata_terpanjang}\")\n",
        "\n",
        "print(\"Daftar Kata sesuai Abjad: \")\n",
        "for kata in sorted(daftar_kata):\n",
        "    print(kata)"
      ],
      "metadata": {
        "id": "dKJz16_4SjPw",
        "colab": {
          "base_uri": "https://localhost:8080/"
        },
        "outputId": "8d42eca7-a725-4c1f-8876-f0ca810412b4"
      },
      "execution_count": 7,
      "outputs": [
        {
          "output_type": "stream",
          "name": "stdout",
          "text": [
            "Masukkan Kalimat Anda: asd sda bsd aoda\n",
            "Jumlah kata dalam teks adalah: 4\n",
            "Kata terpanjang dalam teks adalah: aoda\n",
            "Daftar Kata sesuai Abjad: \n",
            "aoda\n",
            "asd\n",
            "bsd\n",
            "sda\n"
          ]
        }
      ]
    },
    {
      "cell_type": "code",
      "source": [],
      "metadata": {
        "id": "lnw2-bVtpt3p"
      },
      "execution_count": null,
      "outputs": []
    }
  ]
}