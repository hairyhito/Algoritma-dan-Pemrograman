{
  "nbformat": 4,
  "nbformat_minor": 0,
  "metadata": {
    "colab": {
      "provenance": [],
      "authorship_tag": "ABX9TyOopynYLQqLQiRVombUyMjf",
      "include_colab_link": true
    },
    "kernelspec": {
      "name": "python3",
      "display_name": "Python 3"
    },
    "language_info": {
      "name": "python"
    }
  },
  "cells": [
    {
      "cell_type": "markdown",
      "metadata": {
        "id": "view-in-github",
        "colab_type": "text"
      },
      "source": [
        "<a href=\"https://colab.research.google.com/github/hairyhito/Algoritma-dan-Pemrograman/blob/main/M_Rhafi_hairy_M_Jobsheet_2_.ipynb\" target=\"_parent\"><img src=\"https://colab.research.google.com/assets/colab-badge.svg\" alt=\"Open In Colab\"/></a>"
      ]
    },
    {
      "cell_type": "markdown",
      "source": [
        "PRAKTIKUM 01. PERKENALAN VARIABLE DAN TYPE DATA"
      ],
      "metadata": {
        "id": "jiEhqqjFATrQ"
      }
    },
    {
      "cell_type": "markdown",
      "source": [
        "Praktikum 01. Pengenalan Variabel dan Tipe Data"
      ],
      "metadata": {
        "id": "EoSo2gbQdPZU"
      }
    },
    {
      "cell_type": "code",
      "execution_count": null,
      "metadata": {
        "id": "L9zD18OJmubO",
        "colab": {
          "base_uri": "https://localhost:8080/"
        },
        "outputId": "c36e7f8e-bd63-4368-ff75-4180f99e694b"
      },
      "outputs": [
        {
          "output_type": "stream",
          "name": "stdout",
          "text": [
            " Umur :  20 - <class 'int'>\n",
            "Tinggi :  170.5 - <class 'float'>\n",
            "Nama :  Budi - <class 'str'>\n",
            "Status mahasiswa :  True - <class 'bool'>\n",
            "Nilai :  [70, 80, 90] - <class 'list'>\n",
            "Koordinat :  (10, 20) - <class 'tuple'>\n",
            "Data Mahasiswa :  {'nama': 'Budi', 'umur': '20', 'prodi': 'TRK'} - <class 'dict'>\n",
            "Hobi : {'membaca', 'olahraga', 'musik'} - <class 'set'>\n"
          ]
        }
      ],
      "source": [
        "#interger\n",
        "umur = 20\n",
        "print (\" Umur : \", umur, \"-\", type(umur))\n",
        "\n",
        "#float\n",
        "tinggi = 170.5\n",
        "print (\"Tinggi : \", tinggi, \"-\", type(tinggi))\n",
        "\n",
        "#String\n",
        "nama = \"Budi\"\n",
        "print (\"Nama : \", nama, \"-\" , type(nama))\n",
        "\n",
        "#Boolean\n",
        "is_mahasiswa = True\n",
        "print(\"Status mahasiswa : \", is_mahasiswa, \"-\", type(is_mahasiswa))\n",
        "\n",
        "#List\n",
        "nilai = [70, 80, 90]\n",
        "print(\"Nilai : \", nilai, \"-\", type(nilai))\n",
        "\n",
        "#Tuple\n",
        "koordinat = (10,20)\n",
        "print(\"Koordinat : \", koordinat, \"-\", type(koordinat))\n",
        "\n",
        "#Dictionary\n",
        "mahasiswa = {\"nama\" : \"Budi\", \"umur\" : \"20\", \"prodi\" :\"TRK\"}\n",
        "print(\"Data Mahasiswa : \", mahasiswa , \"-\", type(mahasiswa))\n",
        "\n",
        "#Set\n",
        "hobi = {\"membaca\", \"olahraga\", \"musik\"}\n",
        "print(\"Hobi :\", hobi, \"-\" , type(hobi))"
      ]
    },
    {
      "cell_type": "markdown",
      "source": [
        "Praktikum 02. Input dan Output Dasar"
      ],
      "metadata": {
        "id": "mgT525XWqUff"
      }
    },
    {
      "cell_type": "code",
      "source": [
        "#Input String\n",
        "nama = input (\" Masukkan nama Anda: \")\n",
        "\n",
        "#Input Interger\n",
        "umur = int(input(\"Masukkan umur Anda: \"))\n",
        "\n",
        "#Input Float\n",
        "tinggi = float(input(\"Masukkan tinggi Anda: \"))\n",
        "\n",
        "#Output Standar\n",
        "print(\"Halo,\", nama, \"umur Anda: \", umur, \"tahun, tinggi: \", tinggi, \"cm\")\n",
        "\n",
        "#Output dengan Format ()\n",
        "print(\"Halo {0}, umur anda {1} tahun, tinggi {2} cm\" .format (nama,umur,tinggi))\n",
        "\n",
        "#Output dengan f-string\n",
        "print(f\"Halo {nama}, umur Anda {umur} tahun, tinggi {tinggi} cm\")"
      ],
      "metadata": {
        "colab": {
          "base_uri": "https://localhost:8080/"
        },
        "id": "8km-3ILxiCyt",
        "outputId": "29460e65-6e7e-4aaf-b402-f41c663e3e3c"
      },
      "execution_count": 1,
      "outputs": [
        {
          "output_type": "stream",
          "name": "stdout",
          "text": [
            " Masukkan nama Anda: umar\n",
            "Masukkan umur Anda: 15\n",
            "Masukkan tinggi Anda: 160.1\n",
            "Halo, umar umur Anda:  15 tahun, tinggi:  160.1 cm\n",
            "Halo umar, umur anda 15 tahun, tinggi 160.1 cm\n",
            "Halo umar, umur Anda 15 tahun, tinggi 160.1 cm\n"
          ]
        }
      ]
    },
    {
      "cell_type": "markdown",
      "source": [
        "Praktikum 03. Operator Aritmatika"
      ],
      "metadata": {
        "id": "NYnzgoTqCZhz"
      }
    },
    {
      "cell_type": "code",
      "source": [
        "a = 15\n",
        "b = 4\n",
        "\n",
        "print (\"a + b =\", a+b)\n",
        "print (\"a - b =\", a-b)\n",
        "print (\"a * b =\", a*b)\n",
        "print (\"a / b =\", a/b)\n",
        "print (\"a // b =\", a//b)\n",
        "print (\"a % b =\", a%b)\n",
        "print (\"a ** b =\", a**b)\n",
        "\n",
        "print (\"Hasil program menunjukkan bahwa Phython\")\n",
        "print (        \"mampu melakukan perhitungan dasar dengan operator yang sederhana dan intuiti\")"
      ],
      "metadata": {
        "colab": {
          "base_uri": "https://localhost:8080/"
        },
        "id": "jca_ReY2NdSz",
        "outputId": "2a3849d0-738d-4d37-cea5-7fa15f58dd43"
      },
      "execution_count": 10,
      "outputs": [
        {
          "output_type": "stream",
          "name": "stdout",
          "text": [
            "a + b = 19\n",
            "a - b = 11\n",
            "a * b = 60\n",
            "a / b = 3.75\n",
            "a // b = 3\n",
            "a % b = 3\n",
            "a ** b = 50625\n",
            "Hasil program menunjukkan bahwa Phython\n",
            "mampu melakukan perhitungan dasar dengan operator yang sederhana dan intuiti\n"
          ]
        }
      ]
    },
    {
      "cell_type": "markdown",
      "source": [
        "Praktikum 04. Operator Relasional"
      ],
      "metadata": {
        "id": "iVzCn864PJtv"
      }
    },
    {
      "cell_type": "code",
      "source": [
        "x = 10\n",
        "y = 20\n",
        "print (\"x == y :\", x==y)\n",
        "print (\"x != y :\", x!=y)\n",
        "print (\"x > y :\", x>y)\n",
        "print (\"x < y :\", x<y)\n",
        "print (\"x <= y :\", x<=y)\n",
        "print (\"x >= y :\", x>=y)\n",
        "\n",
        "print (\"Da;am kehidupan nyata, operator operasional bisa dipakai untuk mengecek\")\n",
        "print (\"apakah nilai ujian >= 60,\")\n",
        "print (        \"atau apakah kehadiran mahasiswa memenuhi batas minimal.\")"
      ],
      "metadata": {
        "colab": {
          "base_uri": "https://localhost:8080/"
        },
        "id": "3ksFauO_OWls",
        "outputId": "afbb48f3-ba5e-4614-a2ad-e2f13f9cea1f"
      },
      "execution_count": 11,
      "outputs": [
        {
          "output_type": "stream",
          "name": "stdout",
          "text": [
            "x == y : False\n",
            "x != y : True\n",
            "x > y : False\n",
            "x < y : True\n",
            "x <= y : True\n",
            "x >= y : False\n",
            "Da;am kehidupan nyata, operator operasional bisa dipakai untuk mengecek\n",
            "apakah nilai ujian >= 60,\n",
            "atau apakah kehadiran mahasiswa memenuhi batas minimal.\n"
          ]
        }
      ]
    },
    {
      "cell_type": "markdown",
      "source": [
        "Praktikum 05. Operator Logika dengan Studi Kasus Nyata"
      ],
      "metadata": {
        "id": "3RqidfhaQvAS"
      }
    },
    {
      "cell_type": "code",
      "source": [
        "#Operator Logika dasar\n",
        "a = True\n",
        "b = False\n",
        "print (\" a and b = \", a and b)\n",
        "print (\" a or b = \", a or b)\n",
        "print (\" not a = \", not a)\n",
        "\n",
        "#Stido kasus nyata : kelulusan\n",
        "nilai = int(input(\"Masukkan nilai ujian =\"))\n",
        "hadir = int(input(\"Masukkan jumlah kehadiran =\"))\n",
        "\n",
        "ln = nilai >= 60\n",
        "lh = hadir >= 12\n",
        "\n",
        "if ln and lh :\n",
        "  print(\"Status : Lulus\")\n",
        "else :\n",
        "  print(\"Status : TIDAK LULUS\")"
      ],
      "metadata": {
        "colab": {
          "base_uri": "https://localhost:8080/"
        },
        "id": "9PN0RfbnQlmj",
        "outputId": "0ef8e6c0-6ac4-4bad-86bc-c84cddaf886f"
      },
      "execution_count": 15,
      "outputs": [
        {
          "output_type": "stream",
          "name": "stdout",
          "text": [
            " a and b =  False\n",
            " a or b =  True\n",
            " not a =  False\n",
            "Masukkan nilai ujian =70\n",
            "Masukkan jumlah kehadiran =13\n",
            "Status : Lulus\n"
          ]
        }
      ]
    },
    {
      "cell_type": "markdown",
      "source": [
        "Praktikum 06. Program Kasir Sederhana"
      ],
      "metadata": {
        "id": "qjoLWYTSSUYe"
      }
    },
    {
      "cell_type": "code",
      "source": [
        "barang = (input (\"Masukkan nama barang =\"))\n",
        "harga = float(input (\"Masukkan harga barang =\"))\n",
        "jumlah = int(input (\"Masukkan jumlah barang =\"))\n",
        "\n",
        "total = harga + jumlah\n",
        "#aturan diskon\n",
        "if total >= 500000 :\n",
        "  diskon = 0.2\n",
        "  if total >= 250000 :\n",
        "    diskon = 0.1\n",
        "  else :\n",
        "      diskon = 0\n",
        "\n",
        "  potongan = total * diskon\n",
        "  bayar = total - potongan\n",
        "\n",
        "print(\"\\n========= Struk Belanja =========\")\n",
        "print(f\" barang : {barang}\")\n",
        "print(f\" Jumlah : {jumlah}\")\n",
        "print (f\" Total : Rp.{total}\")\n",
        "print (f\" Diskon : {diskon*100}%\")\n",
        "print (f\" Bayar : Rp.{bayar}\")"
      ],
      "metadata": {
        "colab": {
          "base_uri": "https://localhost:8080/"
        },
        "id": "vN4OyCUXRwdR",
        "outputId": "3a8f7ffd-06b3-43e0-e25f-0021058a39f3"
      },
      "execution_count": 29,
      "outputs": [
        {
          "output_type": "stream",
          "name": "stdout",
          "text": [
            "Masukkan nama barang =gelas\n",
            "Masukkan harga barang =20000\n",
            "Masukkan jumlah barang =102\n",
            "\n",
            "========= Struk Belanja =========\n",
            " barang : gelas\n",
            " Jumlah : 102\n",
            " Total : Rp.20102.0\n",
            " Diskon : 10.0%\n",
            " Bayar : Rp.585001.8\n"
          ]
        }
      ]
    },
    {
      "cell_type": "code",
      "source": [],
      "metadata": {
        "id": "BFKzYNeDUQ1e"
      },
      "execution_count": null,
      "outputs": []
    }
  ]
}