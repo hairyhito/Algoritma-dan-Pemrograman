{
  "nbformat": 4,
  "nbformat_minor": 0,
  "metadata": {
    "colab": {
      "provenance": [],
      "toc_visible": true,
      "authorship_tag": "ABX9TyMuYTSIoieZ4KEcgLwqK7R/",
      "include_colab_link": true
    },
    "kernelspec": {
      "name": "python3",
      "display_name": "Python 3"
    },
    "language_info": {
      "name": "python"
    }
  },
  "cells": [
    {
      "cell_type": "markdown",
      "metadata": {
        "id": "view-in-github",
        "colab_type": "text"
      },
      "source": [
        "<a href=\"https://colab.research.google.com/github/hairyhito/Algoritma-dan-Pemrograman/blob/main/M_Rhafi_Hairy_M_Jobsheet7.ipynb\" target=\"_parent\"><img src=\"https://colab.research.google.com/assets/colab-badge.svg\" alt=\"Open In Colab\"/></a>"
      ]
    },
    {
      "cell_type": "markdown",
      "source": [
        "# Praktikum 07"
      ],
      "metadata": {
        "id": "L_KJguI0W-nw"
      }
    },
    {
      "cell_type": "markdown",
      "source": [
        "Praktikum 01. Tuple : Data Tetap"
      ],
      "metadata": {
        "id": "3W287RgwXHKW"
      }
    },
    {
      "cell_type": "code",
      "execution_count": 2,
      "metadata": {
        "colab": {
          "base_uri": "https://localhost:8080/"
        },
        "id": "eOovvz5bWc1d",
        "outputId": "06b3a311-5d3a-4631-a773-12cafcecc8b6"
      },
      "outputs": [
        {
          "output_type": "stream",
          "name": "stdout",
          "text": [
            "Lintang: 7.05\n",
            "Bujur: 110.44\n"
          ]
        }
      ],
      "source": [
        "koordinat = (7.05, 110.44)\n",
        "print(\"Lintang:\", koordinat[0])\n",
        "print(\"Bujur:\", koordinat[1])"
      ]
    },
    {
      "cell_type": "markdown",
      "source": [
        "Praktikum 02. Dictionary Dasar"
      ],
      "metadata": {
        "id": "jsocaTynXza7"
      }
    },
    {
      "cell_type": "code",
      "source": [
        "mahasiswa = {\n",
        "\"NIM\": \"20251001\",\n",
        "\"Nama\": \"Andi\",\n",
        "\"Prodi\": \"TRK\"\n",
        " }\n",
        "\n",
        "print(\"NIM :\", mahasiswa[\"NIM\"])\n",
        "print(\"Nama:\", mahasiswa[\"Nama\"])\n",
        "print(\"Prodi:\", mahasiswa[\"Prodi\"])"
      ],
      "metadata": {
        "colab": {
          "base_uri": "https://localhost:8080/"
        },
        "id": "H4ktx9HfX4JW",
        "outputId": "6cfb3cb3-168f-49cb-b88e-c5a19d8c865b"
      },
      "execution_count": 3,
      "outputs": [
        {
          "output_type": "stream",
          "name": "stdout",
          "text": [
            "NIM : 20251001\n",
            "Nama: Andi\n",
            "Prodi: TRK\n"
          ]
        }
      ]
    },
    {
      "cell_type": "markdown",
      "source": [
        "Praktikum 03. Operasi Dictionary"
      ],
      "metadata": {
        "id": "zYG1LPXNX4pM"
      }
    },
    {
      "cell_type": "code",
      "source": [
        "mahasiswa = {\n",
        "\"NIM\": \"20251001\",\n",
        "\"Nama\": \"Andi\",\n",
        "\"Prodi\": \"TRK\"\n",
        " }\n",
        "\n",
        "mahasiswa[\"Umur\"] = 20 # menambah data\n",
        "mahasiswa[\"Prodi\"] = \"Teknik Komputer\" # memperbarui data\n",
        "del mahasiswa[\"Umur\"] # menghapus data\n",
        "print(mahasiswa)"
      ],
      "metadata": {
        "colab": {
          "base_uri": "https://localhost:8080/"
        },
        "id": "lIszFg-AX9C8",
        "outputId": "24061a37-e813-4acf-80f4-1497fb89ffec"
      },
      "execution_count": 4,
      "outputs": [
        {
          "output_type": "stream",
          "name": "stdout",
          "text": [
            "{'NIM': '20251001', 'Nama': 'Andi', 'Prodi': 'Teknik Komputer'}\n"
          ]
        }
      ]
    },
    {
      "cell_type": "markdown",
      "source": [
        "Praktikum 04. Set dan operasi Himpunan"
      ],
      "metadata": {
        "id": "OSPfAsToX9-8"
      }
    },
    {
      "cell_type": "code",
      "source": [
        "A = {1, 2, 3, 4}\n",
        "B = {3, 4, 5, 6}\n",
        "print(\"Union:\", A | B)\n",
        "print(\"Intersection:\", A & B)\n",
        "print(\"Difference:\", A - B)"
      ],
      "metadata": {
        "colab": {
          "base_uri": "https://localhost:8080/"
        },
        "id": "_m3QQu5NX9kV",
        "outputId": "9e27241d-462a-4dba-c3f7-8d44a8b13084"
      },
      "execution_count": 5,
      "outputs": [
        {
          "output_type": "stream",
          "name": "stdout",
          "text": [
            "Union: {1, 2, 3, 4, 5, 6}\n",
            "Intersection: {3, 4}\n",
            "Difference: {1, 2}\n"
          ]
        }
      ]
    },
    {
      "cell_type": "markdown",
      "source": [
        "Praktikum 05. Studi Kasus - Mata Kuliah"
      ],
      "metadata": {
        "id": "NqRDeyenYCmG"
      }
    },
    {
      "cell_type": "code",
      "source": [
        "mhs1 = {\"Algoritma\", \"Matematika\", \"Bahasa Inggris\"}\n",
        "mhs2 = {\"Algoritma\", \"Basis Data\", \"Matematika\"}\n",
        "\n",
        "print(\"Mata kuliah Mhs1:\", mhs1)\n",
        "print(\"Mata kuliah Mhs2:\", mhs2)\n",
        "print(\"Mata kuliah yang sama:\", mhs1 & mhs2)"
      ],
      "metadata": {
        "colab": {
          "base_uri": "https://localhost:8080/"
        },
        "id": "g0h9-GhNYCOz",
        "outputId": "3e098174-4d82-4577-cf78-ca37c4fc68aa"
      },
      "execution_count": 6,
      "outputs": [
        {
          "output_type": "stream",
          "name": "stdout",
          "text": [
            "Mata kuliah Mhs1: {'Matematika', 'Algoritma', 'Bahasa Inggris'}\n",
            "Mata kuliah Mhs2: {'Basis Data', 'Matematika', 'Algoritma'}\n",
            "Mata kuliah yang sama: {'Matematika', 'Algoritma'}\n"
          ]
        }
      ]
    },
    {
      "cell_type": "markdown",
      "source": [
        "Praktikum 06. Studi Kasus - Dictionary : Daftar Nilai"
      ],
      "metadata": {
        "id": "BeQjWpR9YIYF"
      }
    },
    {
      "cell_type": "code",
      "source": [
        "nilai_mahasiswa = {\n",
        " \"Andi\": 80,\n",
        " \"Budi\": 75,\n",
        " \"Cici\": 90\n",
        "}\n",
        "\n",
        "for nama, nilai in nilai_mahasiswa.items():\n",
        "    print(f\"{nama}: {nilai}\")\n",
        "rata = sum(nilai_mahasiswa.values()) / len(nilai_mahasiswa)\n",
        "print(f\"Rata-rata nilai: {rata:.2f}\")"
      ],
      "metadata": {
        "colab": {
          "base_uri": "https://localhost:8080/"
        },
        "id": "uxC3I-3MYOAZ",
        "outputId": "cfd96d22-afc5-4d7e-e80f-8420329cc774"
      },
      "execution_count": 8,
      "outputs": [
        {
          "output_type": "stream",
          "name": "stdout",
          "text": [
            "Andi: 80\n",
            "Budi: 75\n",
            "Cici: 90\n",
            "Rata-rata nilai: 81.67\n"
          ]
        }
      ]
    },
    {
      "cell_type": "markdown",
      "source": [
        "# Penugasan 07"
      ],
      "metadata": {
        "id": "h-8jvIP3YQdI"
      }
    },
    {
      "cell_type": "markdown",
      "source": [
        "Penugasan 01. Tuple Sederhana"
      ],
      "metadata": {
        "id": "TNHr-bFVYP5C"
      }
    },
    {
      "cell_type": "code",
      "source": [
        "nama = (\"Andi\", \"Budi\", \"Cici\", \"Dedi\")\n",
        "umur = (20, 21, 19, 18)\n",
        "prodi = (\"Teknik Komputer\", \"Sistem Informasi\", \"Teknik Elektro\", \"Manajemen\")\n",
        "print(nama[1], umur[2], prodi[0])\n",
        "print(nama[0], umur[1], prodi[2])\n",
        "print(nama[2], umur[0], prodi[3])\n",
        "print(nama[3], umur[2], prodi[1])\n"
      ],
      "metadata": {
        "colab": {
          "base_uri": "https://localhost:8080/"
        },
        "id": "4brncDbKYYxY",
        "outputId": "3e3e5950-23f9-4f6f-e5d1-815fce33035b"
      },
      "execution_count": 9,
      "outputs": [
        {
          "output_type": "stream",
          "name": "stdout",
          "text": [
            "Budi 19 Teknik Komputer\n",
            "Andi 21 Teknik Elektro\n",
            "Cici 20 Manajemen\n",
            "Dedi 19 Sistem Informasi\n"
          ]
        }
      ]
    },
    {
      "cell_type": "markdown",
      "source": [
        "Penugasan 02. Tuple Tidak Bisa Diubah"
      ],
      "metadata": {
        "id": "NxStFqKKYZXw"
      }
    },
    {
      "cell_type": "code",
      "source": [
        "nilai = (1,2,3)"
      ],
      "metadata": {
        "id": "8Bt839IoYcl9"
      },
      "execution_count": null,
      "outputs": []
    },
    {
      "cell_type": "markdown",
      "source": [
        "Penugasan 03. Dictionary Dasar"
      ],
      "metadata": {
        "id": "Nc0JbfYfYdGI"
      }
    },
    {
      "cell_type": "code",
      "source": [
        "Buku = {\n",
        "\"Judul\": \"Algoritma\",\n",
        "\"Penulis\": \"Munir\",\n",
        "\"Tahun\": 2021 }\n",
        "print(\"Judul :\", Buku[\"Judul\"])\n",
        "print(\"Penulis :\", Buku[\"Penulis\"])\n",
        "print(\"Tahun Rilis: \", Buku[\"Tahun\"])"
      ],
      "metadata": {
        "colab": {
          "base_uri": "https://localhost:8080/"
        },
        "id": "Z_t4tchOYfn8",
        "outputId": "d926e0a0-e7d3-4e0f-f9d9-b5d40a94f087"
      },
      "execution_count": 13,
      "outputs": [
        {
          "output_type": "stream",
          "name": "stdout",
          "text": [
            "Judul : Algoritma\n",
            "Penulis : Munir\n",
            "Tahun Rilis:  2021\n"
          ]
        }
      ]
    },
    {
      "cell_type": "markdown",
      "source": [
        "Penugasan 04. Operasi Dictionary"
      ],
      "metadata": {
        "id": "-EStWZTYYgFg"
      }
    },
    {
      "cell_type": "code",
      "source": [
        "dosen = {\n",
        "\"NIP\": \"12345\",\n",
        "\"Nama\": \"Budi\",\n",
        "\"Prodi\": \"TRK\"\n",
        "}\n",
        "dosen[\"Umur\"] = 40\n",
        "dosen[\"Prodi\"] = \"Teknik Komputer\"\n",
        "del dosen[\"Umur\"]\n",
        "print(dosen)"
      ],
      "metadata": {
        "colab": {
          "base_uri": "https://localhost:8080/"
        },
        "id": "hTh2AUY5Yj--",
        "outputId": "e8a9a3a1-d8ea-456f-b031-f1f8f2fff89e"
      },
      "execution_count": 14,
      "outputs": [
        {
          "output_type": "stream",
          "name": "stdout",
          "text": [
            "{'NIP': '12345', 'Nama': 'Budi', 'Prodi': 'Teknik Komputer'}\n"
          ]
        }
      ]
    },
    {
      "cell_type": "markdown",
      "source": [
        "Penugasan 05. Set dan Himpunan"
      ],
      "metadata": {
        "id": "CPvk6WLrYkYk"
      }
    },
    {
      "cell_type": "code",
      "source": [
        "A = {\"Matematika\", \"Algoritma\", \"Bahasa Inggris\"}\n",
        "B = {\"Algoritma\", \"Basis Data\", \"Matematika\"}\n",
        "print(\"Union:\", A | B)\n",
        "print(\"Intersection:\", A & B)\n",
        "print(\"Difference:\", A - B)"
      ],
      "metadata": {
        "colab": {
          "base_uri": "https://localhost:8080/"
        },
        "id": "5rH4r08IYoAc",
        "outputId": "f5687251-2337-42ce-f132-3dbe8b65422c"
      },
      "execution_count": 15,
      "outputs": [
        {
          "output_type": "stream",
          "name": "stdout",
          "text": [
            "Union: {'Algoritma', 'Basis Data', 'Matematika', 'Bahasa Inggris'}\n",
            "Intersection: {'Matematika', 'Algoritma'}\n",
            "Difference: {'Bahasa Inggris'}\n"
          ]
        }
      ]
    },
    {
      "cell_type": "markdown",
      "source": [
        "Penugasan 06. Studi Kasus - Dictionary"
      ],
      "metadata": {
        "id": "oQXC6IwzYoom"
      }
    },
    {
      "cell_type": "code",
      "source": [
        "nilai_mahasiswa = {\n",
        "\"Andi\": 85,\n",
        "\"Budi\": 90,\n",
        "\"Cici\": 78\n",
        "  }\n",
        "for nama, nilai in nilai_mahasiswa.items():\n",
        "    print(f\"{nama}: {nilai}\")\n",
        "rata = sum(nilai_mahasiswa.values()) / len(nilai_mahasiswa)\n",
        "print(f\"Rata-rata nilai: {rata:.2f}\")"
      ],
      "metadata": {
        "colab": {
          "base_uri": "https://localhost:8080/"
        },
        "id": "QW0HZ5LtYtm0",
        "outputId": "7816bfef-1de0-492c-9617-9fcb1813facb"
      },
      "execution_count": 17,
      "outputs": [
        {
          "output_type": "stream",
          "name": "stdout",
          "text": [
            "Andi: 85\n",
            "Budi: 90\n",
            "Cici: 78\n",
            "Rata-rata nilai: 84.33\n"
          ]
        }
      ]
    },
    {
      "cell_type": "markdown",
      "source": [
        "Penugasan 07. Studi Kasus Set - Klub Mahasiswa"
      ],
      "metadata": {
        "id": "sKqVe7z7YuLw"
      }
    },
    {
      "cell_type": "code",
      "source": [
        "A = {\"Andi\", \"Budi\", \"Cici\"}\n",
        "B = {\"Cici\", \"Deni\", \"Eka\"}\n",
        "print(\"Union:\", A | B)\n",
        "print(\"Intersection:\", A & B)\n",
        "print(\"Difference:\", A - B)"
      ],
      "metadata": {
        "colab": {
          "base_uri": "https://localhost:8080/"
        },
        "id": "fT0oAZ3tYxLq",
        "outputId": "19b2a4c2-376c-4c03-8004-95454379a289"
      },
      "execution_count": 18,
      "outputs": [
        {
          "output_type": "stream",
          "name": "stdout",
          "text": [
            "Union: {'Deni', 'Cici', 'Eka', 'Andi', 'Budi'}\n",
            "Intersection: {'Cici'}\n",
            "Difference: {'Andi', 'Budi'}\n"
          ]
        }
      ]
    }
  ]
}