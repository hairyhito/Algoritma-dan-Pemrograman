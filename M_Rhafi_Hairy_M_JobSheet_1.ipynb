{
  "nbformat": 4,
  "nbformat_minor": 0,
  "metadata": {
    "colab": {
      "provenance": []
    },
    "kernelspec": {
      "name": "python3",
      "display_name": "Python 3"
    },
    "language_info": {
      "name": "python"
    }
  },
  "cells": [
    {
      "cell_type": "markdown",
      "source": [
        "Praktikum 01. Menghitung luas persegi panjang"
      ],
      "metadata": {
        "id": "QtWoQYntQQiE"
      }
    },
    {
      "cell_type": "code",
      "execution_count": null,
      "metadata": {
        "colab": {
          "base_uri": "https://localhost:8080/"
        },
        "id": "XJ_W_VmPPqdK",
        "outputId": "12b10965-7864-4724-f742-1d82ed4d741d"
      },
      "outputs": [
        {
          "output_type": "stream",
          "name": "stdout",
          "text": [
            "Masukkan panjang : 23\n",
            "Masukkan lebar : 4\n",
            "luas persegi panjang = 92\n"
          ]
        }
      ],
      "source": [
        "p = int (input(\"Masukkan panjang : \" ))\n",
        "l = int (input(\"Masukkan lebar : \"))\n",
        "luas = l * p\n",
        "print(\"luas persegi panjang =\", luas)\n",
        "\n"
      ]
    },
    {
      "cell_type": "markdown",
      "source": [
        "Praktikum 02. Menghitung Luas Segitiga (Rumus Heron)"
      ],
      "metadata": {
        "id": "hq0-XYPlSGNT"
      }
    },
    {
      "cell_type": "code",
      "source": [
        "import math\n",
        "a = float(input(\"Masukkan sisi a = \"))\n",
        "b = float(input(\"Masukkan sisi b = \"))\n",
        "c = float(input(\"Masukkan sisi c = \"))\n",
        "\n",
        "s = (a + b + c) / 2\n",
        "luas = math.sqrt (s * (s - a) * (s - b) * (s - c))\n",
        "print (\"Luas segitiga = \", luas)"
      ],
      "metadata": {
        "colab": {
          "base_uri": "https://localhost:8080/"
        },
        "id": "aUzvngRRXBrS",
        "outputId": "b6f0165e-e04c-4c02-b707-f42c3a77e638"
      },
      "execution_count": null,
      "outputs": [
        {
          "output_type": "stream",
          "name": "stdout",
          "text": [
            "Masukkan sisi a = 23\n",
            "Masukkan sisi b = 43\n",
            "Masukkan sisi c = 34\n",
            "Luas segitiga =  388.84444190447164\n"
          ]
        }
      ]
    },
    {
      "cell_type": "markdown",
      "source": [
        "Praktikum 03. Konversi Suhu Celcius ke Fahrenheit"
      ],
      "metadata": {
        "id": "qLdhdigbosqV"
      }
    },
    {
      "cell_type": "code",
      "source": [
        "C = float(input(\"Masukkan Suhu dalam Celcius = \",))\n",
        "F = (C*9/5) +32\n",
        "print (\"Suhu dalam Fahrenheit adalah\", F , \"Derajat Fahrenheit\")"
      ],
      "metadata": {
        "colab": {
          "base_uri": "https://localhost:8080/"
        },
        "id": "YsWYq6aaoesy",
        "outputId": "2ee64f19-5760-48ba-c830-b051cccbcf3e"
      },
      "execution_count": null,
      "outputs": [
        {
          "output_type": "stream",
          "name": "stdout",
          "text": [
            "Masukkan Suhu dalam Celcius = 36\n",
            "Suhu dalam Fahrenheit adalah 96.8 Derajat Fahrenheit\n"
          ]
        }
      ]
    },
    {
      "cell_type": "markdown",
      "source": [
        "Praktikum 04. Menghitung Umur Berdasarkan Tahun Lahir"
      ],
      "metadata": {
        "id": "SnAXxR_JwNX9"
      }
    },
    {
      "cell_type": "code",
      "source": [
        "tahun_lahir = int(input(\"Masukkan Tahun Lahirmu = \"))\n",
        "tahun_sekarang = 2025\n",
        "\n",
        "umur = tahun_sekarang - tahun_lahir\n",
        "print (\"Umur kamu adalah \" , umur , \"tahun\" )"
      ],
      "metadata": {
        "colab": {
          "base_uri": "https://localhost:8080/"
        },
        "id": "jRKmwNCBplfE",
        "outputId": "cb826fa0-21ca-4cd8-e90f-8236755b740d"
      },
      "execution_count": null,
      "outputs": [
        {
          "output_type": "stream",
          "name": "stdout",
          "text": [
            "Masukkan Tahun Lahirmu = 2018\n",
            "Umur kamu adalah  7 tahun\n"
          ]
        }
      ]
    },
    {
      "cell_type": "markdown",
      "source": [
        "Praktikum 05. Menghitung Luas Lingkaran"
      ],
      "metadata": {
        "id": "ZYx8tLKgwTrJ"
      }
    },
    {
      "cell_type": "code",
      "source": [
        "import math\n",
        "\n",
        "r = float(input(\"Masukkan Jari Jari = \"))\n",
        "luas = math.pi * r * r\n",
        "print(\"Luas lingkaran = \" , luas)"
      ],
      "metadata": {
        "colab": {
          "base_uri": "https://localhost:8080/"
        },
        "id": "_zRZtV9nwFhU",
        "outputId": "561a0f40-8490-4918-b093-213fe54da373"
      },
      "execution_count": null,
      "outputs": [
        {
          "output_type": "stream",
          "name": "stdout",
          "text": [
            "Masukkan Jari Jari = 7\n",
            "Luas lingkaran =  153.93804002589985\n"
          ]
        }
      ]
    },
    {
      "cell_type": "markdown",
      "source": [
        "Praktikum 06. Menghitung Tiga Bilangan"
      ],
      "metadata": {
        "id": "-qGtjxNq00Av"
      }
    },
    {
      "cell_type": "code",
      "source": [
        "a = int(input(\"Masukkan bilangan pertama = \"))\n",
        "b = int(input(\"Masukkan bilangan kedua = \"))\n",
        "c = int(input(\"Masukkan bilangan ketiga = \"))\n",
        "\n",
        "jumlah = a + b + c\n",
        "print(\"Total jumlah =\", jumlah )\n"
      ],
      "metadata": {
        "id": "kGM8iKDW0qq7",
        "colab": {
          "base_uri": "https://localhost:8080/"
        },
        "outputId": "fdae699e-417a-4c95-d99f-1755df609383"
      },
      "execution_count": 1,
      "outputs": [
        {
          "output_type": "stream",
          "name": "stdout",
          "text": [
            "Masukkan bilangan pertama = 43\n",
            "Masukkan bilangan kedua = 32\n",
            "Masukkan bilangan ketiga = 56\n",
            "Total jumlah = 131\n"
          ]
        }
      ]
    },
    {
      "cell_type": "code",
      "source": [],
      "metadata": {
        "id": "ZdWyeINf1YoD"
      },
      "execution_count": null,
      "outputs": []
    }
  ]
}