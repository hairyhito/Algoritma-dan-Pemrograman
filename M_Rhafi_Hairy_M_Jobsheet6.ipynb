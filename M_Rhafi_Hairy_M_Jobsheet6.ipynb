{
  "nbformat": 4,
  "nbformat_minor": 0,
  "metadata": {
    "colab": {
      "provenance": [],
      "authorship_tag": "ABX9TyOPmwTDcsO6YLkkerHhkx0M",
      "include_colab_link": true
    },
    "kernelspec": {
      "name": "python3",
      "display_name": "Python 3"
    },
    "language_info": {
      "name": "python"
    }
  },
  "cells": [
    {
      "cell_type": "markdown",
      "metadata": {
        "id": "view-in-github",
        "colab_type": "text"
      },
      "source": [
        "<a href=\"https://colab.research.google.com/github/hairyhito/Algoritma-dan-Pemrograman/blob/main/M_Rhafi_Hairy_M_Jobsheet6.ipynb\" target=\"_parent\"><img src=\"https://colab.research.google.com/assets/colab-badge.svg\" alt=\"Open In Colab\"/></a>"
      ]
    },
    {
      "cell_type": "markdown",
      "source": [
        "# Praktikum 06"
      ],
      "metadata": {
        "id": "x6foE2lm2km7"
      }
    },
    {
      "cell_type": "markdown",
      "source": [
        "Praktikum 01. Membuat dan Mengakses List ID"
      ],
      "metadata": {
        "id": "CP88CZRd2jSP"
      }
    },
    {
      "cell_type": "code",
      "execution_count": 1,
      "metadata": {
        "colab": {
          "base_uri": "https://localhost:8080/"
        },
        "id": "P83ugZmY0Bn6",
        "outputId": "924d7434-2f53-4128-8fa7-622d102d8039"
      },
      "outputs": [
        {
          "output_type": "stream",
          "name": "stdout",
          "text": [
            "Andi\n",
            "Budi\n",
            "Cici\n"
          ]
        }
      ],
      "source": [
        "mahasiswa = [\"Andi\", \"Budi\", \"Cici\"]\n",
        "print(mahasiswa[0]) # Andi\n",
        "print(mahasiswa[1]) # Budi\n",
        "print(mahasiswa[-1]) # Cici"
      ]
    },
    {
      "cell_type": "markdown",
      "source": [
        "Praktikum 02. Update dan Operasi Dasar List"
      ],
      "metadata": {
        "id": "Yvtrz6OI3A0N"
      }
    },
    {
      "cell_type": "code",
      "source": [
        "nilai = [85, 90, 78]\n",
        "nilai[1] = 95\n",
        "nilai.append(100)\n",
        "nilai.remove(78)\n",
        "print(nilai)"
      ],
      "metadata": {
        "colab": {
          "base_uri": "https://localhost:8080/"
        },
        "id": "P6f-wZf029S0",
        "outputId": "81b47e1f-0220-4395-a143-c7ad02d1d2fb"
      },
      "execution_count": 2,
      "outputs": [
        {
          "output_type": "stream",
          "name": "stdout",
          "text": [
            "[85, 95, 100]\n"
          ]
        }
      ]
    },
    {
      "cell_type": "markdown",
      "source": [
        "Praktikum 03. Slicing List"
      ],
      "metadata": {
        "id": "0XEfcfqj3HJo"
      }
    },
    {
      "cell_type": "code",
      "source": [
        "nilai = [85, 90, 78, 92, 88]\n",
        "print(nilai[0:3]) # [85, 90, 78]\n",
        "print(nilai[2:]) # [78, 92, 88]\n",
        "print(nilai[:3]) # [85, 90, 78]"
      ],
      "metadata": {
        "colab": {
          "base_uri": "https://localhost:8080/"
        },
        "id": "M7ogmuRh3F9V",
        "outputId": "b8424906-be8d-4ae5-afbc-1752d2050420"
      },
      "execution_count": 3,
      "outputs": [
        {
          "output_type": "stream",
          "name": "stdout",
          "text": [
            "[85, 90, 78]\n",
            "[78, 92, 88]\n",
            "[85, 90, 78]\n"
          ]
        }
      ]
    },
    {
      "cell_type": "markdown",
      "source": [
        "Praktikum 04. List 2D (Matriks)"
      ],
      "metadata": {
        "id": "ZRXnHX-03NFi"
      }
    },
    {
      "cell_type": "code",
      "source": [
        "matriks = [\n",
        "[1, 2, 3],\n",
        "[4, 5, 6],\n",
        "[7, 8, 9]\n",
        " ]\n",
        "\n",
        "print(matriks[0][0]) # 1\n",
        "print(matriks[1][2]) # 6\n",
        "print(matriks[2]) # [7, 8, 9]"
      ],
      "metadata": {
        "colab": {
          "base_uri": "https://localhost:8080/"
        },
        "id": "C0TIUcY53MZg",
        "outputId": "3ab39f2b-cfba-4bd9-cc29-e32553c762d6"
      },
      "execution_count": 4,
      "outputs": [
        {
          "output_type": "stream",
          "name": "stdout",
          "text": [
            "1\n",
            "6\n",
            "[7, 8, 9]\n"
          ]
        }
      ]
    },
    {
      "cell_type": "markdown",
      "source": [
        "Praktikum 05. Operasi pada List 2D"
      ],
      "metadata": {
        "id": "PdHNFWOT3Xd1"
      }
    },
    {
      "cell_type": "code",
      "source": [
        "A = [[1, 2, 3], [4, 5, 6]]\n",
        "B = [[7, 8, 9], [10, 11, 12]]\n",
        "C = []\n",
        "\n",
        "for i in range(len(A)):\n",
        "    baris = []\n",
        "    for j in range(len(A[0])):\n",
        "        baris.append(A[i][j] + B[i][j])\n",
        "    C.append(baris)\n",
        "\n",
        "print(C)"
      ],
      "metadata": {
        "colab": {
          "base_uri": "https://localhost:8080/"
        },
        "id": "0t7dNXtC3Wkp",
        "outputId": "3ee6bbc7-c550-4aff-e762-abc20897c0d5"
      },
      "execution_count": 5,
      "outputs": [
        {
          "output_type": "stream",
          "name": "stdout",
          "text": [
            "[[8, 10, 12], [14, 16, 18]]\n"
          ]
        }
      ]
    },
    {
      "cell_type": "markdown",
      "source": [
        "Praktikum 06. Studi Kasus: Pengelolaan Nilai Mahasiswa"
      ],
      "metadata": {
        "id": "FKVyW78i3qXO"
      }
    },
    {
      "cell_type": "code",
      "source": [
        "nilai = [\n",
        "[80, 90, 85],\n",
        "[70, 75, 80],\n",
        "[88, 92, 84]\n",
        " ]\n",
        "\n",
        "for i, baris in enumerate(nilai, start=1):\n",
        "    rata = sum(baris) / len(baris)\n",
        "    print(f\"Rata-rata mahasiswa {i}: {rata:.2f}\")"
      ],
      "metadata": {
        "colab": {
          "base_uri": "https://localhost:8080/"
        },
        "id": "Z1f96Xpf3pTA",
        "outputId": "ea794c4c-c95a-4540-ee2b-ab976b9d6a54"
      },
      "execution_count": 6,
      "outputs": [
        {
          "output_type": "stream",
          "name": "stdout",
          "text": [
            "Rata-rata mahasiswa 1: 85.00\n",
            "Rata-rata mahasiswa 2: 75.00\n",
            "Rata-rata mahasiswa 3: 88.00\n"
          ]
        }
      ]
    },
    {
      "cell_type": "markdown",
      "source": [
        "# Penugasan 06"
      ],
      "metadata": {
        "id": "jtIxesgq32Aj"
      }
    },
    {
      "cell_type": "markdown",
      "source": [
        "Penugasan 01. Akses Elemen list"
      ],
      "metadata": {
        "id": "dSTq-eS735in"
      }
    },
    {
      "cell_type": "code",
      "source": [
        "mahasiswa = [\"Andi\", \"Budi\", \"Cici\"]\n",
        "print(mahasiswa[0]) # Andi\n",
        "print(mahasiswa[1]) # Budi\n",
        "print(mahasiswa[-1]) # Cici"
      ],
      "metadata": {
        "id": "vwB5u2BJ3z6L"
      },
      "execution_count": null,
      "outputs": []
    },
    {
      "cell_type": "markdown",
      "source": [
        "Penugasan 02. Operasi Dasar List"
      ],
      "metadata": {
        "id": "O9iZ9cIl6BU2"
      }
    },
    {
      "cell_type": "code",
      "source": [
        "nilai = [70, 75, 80]\n",
        "nilai[1] = 85\n",
        "nilai.append(90)\n",
        "nilai.remove(70)\n",
        "print(nilai)"
      ],
      "metadata": {
        "colab": {
          "base_uri": "https://localhost:8080/"
        },
        "id": "ECxE13Em6D96",
        "outputId": "1363a637-e136-4e21-80c4-e5a3586ad437"
      },
      "execution_count": 11,
      "outputs": [
        {
          "output_type": "stream",
          "name": "stdout",
          "text": [
            "[85, 80, 90]\n"
          ]
        }
      ]
    },
    {
      "cell_type": "markdown",
      "source": [
        "Penugasan 03. Slicing List"
      ],
      "metadata": {
        "id": "gGj1V-pp66Jz"
      }
    },
    {
      "cell_type": "code",
      "source": [
        "angka = [1,2,3,4,5,6,7,8,9,10]\n",
        "print(angka[0:3])\n",
        "print(angka[6:10])\n",
        "print(angka[1:10:2])"
      ],
      "metadata": {
        "colab": {
          "base_uri": "https://localhost:8080/"
        },
        "id": "9FaAglyO6ePZ",
        "outputId": "272aec9f-0da2-424e-f060-1047f7f24bcd"
      },
      "execution_count": 20,
      "outputs": [
        {
          "output_type": "stream",
          "name": "stdout",
          "text": [
            "[1, 2, 3]\n",
            "[7, 8, 9, 10]\n",
            "[2, 4, 6, 8, 10]\n"
          ]
        }
      ]
    },
    {
      "cell_type": "markdown",
      "source": [
        "Penugasan 04. List 2D - Matriks"
      ],
      "metadata": {
        "id": "8p0C189U7498"
      }
    },
    {
      "cell_type": "code",
      "source": [
        "matriks = [\n",
        "[1, 2, 3],\n",
        "[4, 5, 6]\n",
        " ]\n",
        "\n",
        "print(matriks[0][1])\n",
        "print(matriks[1][2])\n",
        "print(matriks[0])"
      ],
      "metadata": {
        "colab": {
          "base_uri": "https://localhost:8080/"
        },
        "id": "kI1MVf0t7JoH",
        "outputId": "d7f2d0fd-dcf1-4ee2-e4da-c85728782219"
      },
      "execution_count": 21,
      "outputs": [
        {
          "output_type": "stream",
          "name": "stdout",
          "text": [
            "2\n",
            "6\n",
            "[1, 2, 3]\n"
          ]
        }
      ]
    },
    {
      "cell_type": "markdown",
      "source": [
        "Penugasan 05. Operasi Matriks 2D"
      ],
      "metadata": {
        "id": "2DOvgiyr9sr7"
      }
    },
    {
      "cell_type": "code",
      "source": [
        "matriks1 = [\n",
        "    [1,2],\n",
        "    [3,4]\n",
        "]\n",
        "matriks2 = [\n",
        "    [5,6],\n",
        "    [7,8]\n",
        "]\n",
        "C = []\n",
        "\n",
        "for i in range(len(matriks1)):\n",
        "    baris = []\n",
        "    for j in range(len(matriks1[0])):\n",
        "        baris.append(matriks1[i][j] + matriks2[i][j])\n",
        "    C.append(baris)\n",
        "\n",
        "print(\"Hasil dari pertambahan matriks1 dan matriks2 adalah: \", C)"
      ],
      "metadata": {
        "colab": {
          "base_uri": "https://localhost:8080/"
        },
        "id": "IKdcBscV9XzB",
        "outputId": "2e8a5e87-200e-4c6f-8973-43b2fd8c42f9"
      },
      "execution_count": 23,
      "outputs": [
        {
          "output_type": "stream",
          "name": "stdout",
          "text": [
            "Hasil dari pertambahan matriks1 dan matriks2 adalah:  [[6, 8], [10, 12]]\n"
          ]
        }
      ]
    },
    {
      "cell_type": "markdown",
      "source": [
        "Penugasan 06. Rata - Rata Nilai Mahasiswa"
      ],
      "metadata": {
        "id": "wrZXoR1xSx9x"
      }
    },
    {
      "cell_type": "code",
      "source": [
        "nilai = [[75, 80, 85], [60, 70, 65], [90, 95, 92]]\n",
        "for i, baris in enumerate(nilai, start=1):\n",
        "    rata = sum(baris) / len(baris)\n",
        "    print(f\"Rata-rata mahasiswa {i}: {rata:.2f}\")\n"
      ],
      "metadata": {
        "colab": {
          "base_uri": "https://localhost:8080/"
        },
        "id": "eZLaBFCmSmQT",
        "outputId": "19c32152-ed9f-44d2-a4fa-c1dd93ca4e8d"
      },
      "execution_count": 24,
      "outputs": [
        {
          "output_type": "stream",
          "name": "stdout",
          "text": [
            "Rata-rata mahasiswa 1: 80.00\n",
            "Rata-rata mahasiswa 2: 65.00\n",
            "Rata-rata mahasiswa 3: 92.33\n"
          ]
        }
      ]
    },
    {
      "cell_type": "markdown",
      "source": [
        "Penugasan 07. Studi Kasus - Data Toko"
      ],
      "metadata": {
        "id": "C_Z_WE_2TI_h"
      }
    },
    {
      "cell_type": "code",
      "source": [
        "stok = [[\"Buku\", 20], [\"Pulpen\", 35], [\"Penghapus\", 15]]\n",
        "for i, barang in enumerate(stok, start=1):\n",
        "    print(f\"Barang ke-{i}: {barang[0]} - Stok: {barang[1]}\")\n",
        "\n",
        "stok_terbanyak = [\"\", 0]\n",
        "for barang in stok:\n",
        "    if barang[1] > stok_terbanyak[1]:\n",
        "        stok_terbanyak = barang\n",
        "print(f\"Barang dengan stok terbanyak adalah {stok_terbanyak[0]} dengan stok {stok_terbanyak[1]}\")"
      ],
      "metadata": {
        "colab": {
          "base_uri": "https://localhost:8080/"
        },
        "id": "favS86lWTEDl",
        "outputId": "9ae56bc6-7029-4bcb-b7f4-58e575fe9e96"
      },
      "execution_count": 27,
      "outputs": [
        {
          "output_type": "stream",
          "name": "stdout",
          "text": [
            "Barang ke-1: Buku - Stok: 20\n",
            "Barang ke-2: Pulpen - Stok: 35\n",
            "Barang ke-3: Penghapus - Stok: 15\n",
            "Barang dengan stok terbanyak adalah Pulpen dengan stok 35\n"
          ]
        }
      ]
    },
    {
      "cell_type": "code",
      "source": [],
      "metadata": {
        "id": "qvCcJJOXTcoZ"
      },
      "execution_count": null,
      "outputs": []
    }
  ]
}