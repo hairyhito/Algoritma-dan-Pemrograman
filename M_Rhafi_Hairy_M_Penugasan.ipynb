{
  "nbformat": 4,
  "nbformat_minor": 0,
  "metadata": {
    "colab": {
      "provenance": [],
      "authorship_tag": "ABX9TyMeXmfUkvqKzT1xwfCb1YQ0",
      "include_colab_link": true
    },
    "kernelspec": {
      "name": "python3",
      "display_name": "Python 3"
    },
    "language_info": {
      "name": "python"
    }
  },
  "cells": [
    {
      "cell_type": "markdown",
      "metadata": {
        "id": "view-in-github",
        "colab_type": "text"
      },
      "source": [
        "<a href=\"https://colab.research.google.com/github/hairyhito/Algoritma-dan-Pemrograman/blob/main/M_Rhafi_Hairy_M_Penugasan.ipynb\" target=\"_parent\"><img src=\"https://colab.research.google.com/assets/colab-badge.svg\" alt=\"Open In Colab\"/></a>"
      ]
    },
    {
      "cell_type": "markdown",
      "source": [
        "\n",
        "Penugasan 01. Menghitung Volume Balok\n"
      ],
      "metadata": {
        "id": "9_ISaMy9OvYd"
      }
    },
    {
      "cell_type": "code",
      "execution_count": null,
      "metadata": {
        "colab": {
          "base_uri": "https://localhost:8080/"
        },
        "id": "xER8s617OtDE",
        "outputId": "541bcc90-ca51-4c26-bd72-68dc8870146c"
      },
      "outputs": [
        {
          "output_type": "stream",
          "name": "stdout",
          "text": [
            "Masukkan panjang balok = 20\n",
            "Masukkan lebar balok = 30\n",
            "Masukkan tinggi balok = 10\n",
            "Jadi volume balok adalah  6000 cm³ \n"
          ]
        }
      ],
      "source": [
        "p = int(input(\"Masukkan panjang balok = \"))\n",
        "l = int(input(\"Masukkan lebar balok = \"))\n",
        "t = int(input(\"Masukkan tinggi balok = \"))\n",
        "\n",
        "V = p * l * t\n",
        "print (\"Jadi volume balok adalah \", V , (\"cm³ \"))"
      ]
    },
    {
      "cell_type": "markdown",
      "source": [
        "Penugasan 02. Konversi Waktu"
      ],
      "metadata": {
        "id": "s8s0GT7pRuxo"
      }
    },
    {
      "cell_type": "code",
      "source": [
        "d = int(input(\"Masukkan detik = \"))\n",
        "\n",
        "j = d // 3600\n",
        "sd = d % 3600\n",
        "m = sd // 60\n",
        "sa = sd % 60\n",
        "\n",
        "print (\"Jadi \", d, \"detik adalah \", j, \" jam \", m, \" menit \", sa , \" detik \")"
      ],
      "metadata": {
        "colab": {
          "base_uri": "https://localhost:8080/"
        },
        "id": "9drbOjvGRVQU",
        "outputId": "410f3e02-27b9-4d6f-815f-8709c677cf6e"
      },
      "execution_count": null,
      "outputs": [
        {
          "output_type": "stream",
          "name": "stdout",
          "text": [
            "Masukkan detik = 3670\n",
            "Jadi  3670 detik adalah  1  jam  1  menit  10  detik \n"
          ]
        }
      ]
    },
    {
      "cell_type": "markdown",
      "source": [
        "Penugasan 03. Rata-rata Nilai Tiga Mata Kuliah"
      ],
      "metadata": {
        "id": "9y9lcwfCT-UR"
      }
    },
    {
      "cell_type": "code",
      "source": [
        "na = int(input(\"Masukkan Nilai Pertama = \"))\n",
        "nb = int(input(\"Masukkan Nilai Kedua = \"))\n",
        "nc = int(input(\"Masukkan Nilai Ketiga = \"))\n",
        "\n",
        "rata = (na + nb + nc) / 3\n",
        "print(\"Rata - rata nilai anda adalah \", rata)\n",
        "if rata >= 60 :\n",
        "  print(\"Selamat Anda LULUS\")\n",
        "else :\n",
        "  print(\"Maaf Anda Tidak Lulus\")"
      ],
      "metadata": {
        "colab": {
          "base_uri": "https://localhost:8080/"
        },
        "id": "pBD7048hS1_q",
        "outputId": "f053c799-01f0-4e68-cdbb-034169b61618"
      },
      "execution_count": null,
      "outputs": [
        {
          "output_type": "stream",
          "name": "stdout",
          "text": [
            "Masukkan Nilai Pertama = 80\n",
            "Masukkan Nilai Kedua = 90\n",
            "Masukkan Nilai Ketiga = 70\n",
            "Rata - rata nilai anda adalah  80.0\n",
            "Selamat Anda LULUS\n"
          ]
        }
      ]
    },
    {
      "cell_type": "markdown",
      "source": [
        "Penugasan 04. Menghitung Diskon Belanja"
      ],
      "metadata": {
        "id": "d9E-Jv02W3QH"
      }
    },
    {
      "cell_type": "code",
      "source": [
        "tb = int(input(\"Masukkan Total Belanjaan Anda = \"))\n",
        "\n",
        "if tb >= 500000 :\n",
        "  diskon = tb * 0.2\n",
        "if tb >= 250000 :\n",
        "  diskon = tb * 0.1\n",
        "else :\n",
        "  diskon = tb - 0\n",
        "th = int(tb - diskon)\n",
        "print(\"Jadi total belanjaan anda yang perlu dibayar adalah \", th,\"rupiah\")"
      ],
      "metadata": {
        "colab": {
          "base_uri": "https://localhost:8080/"
        },
        "id": "64ozKUgLWH3i",
        "outputId": "fcc6dff6-f364-41a5-a06a-54c6829d6f03"
      },
      "execution_count": null,
      "outputs": [
        {
          "output_type": "stream",
          "name": "stdout",
          "text": [
            "Masukkan Total Belanjaan Anda = 260000\n",
            "Jadi total belanjaan anda yang perlu dibayar adalah  234000 rupiah\n"
          ]
        }
      ]
    },
    {
      "cell_type": "code",
      "source": [],
      "metadata": {
        "id": "--Kh1cFeYkaf"
      },
      "execution_count": null,
      "outputs": []
    }
  ]
}